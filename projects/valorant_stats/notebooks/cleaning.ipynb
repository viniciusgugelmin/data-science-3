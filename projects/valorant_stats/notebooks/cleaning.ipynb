{
  "cells": [
    {
      "cell_type": "markdown",
      "metadata": {
        "id": "qRE3R2oSdjpB"
      },
      "source": [
        "# Configuração de ambiente"
      ]
    },
    {
      "cell_type": "markdown",
      "metadata": {
        "id": "ol3DH-YhdjpI"
      },
      "source": [
        "Importação das bibliotecas:\n",
        "- Pandas: para manipulação de dados através do alias \"pd\"\n",
        "- Google Colab: para manipulação de arquivos no Google Drive\n",
        "\n",
        "E execução do comando \"%matplotlib inline\" para que os gráficos sejam exibidos no notebook logo abaixo da célula de código que os gerou."
      ]
    },
    {
      "cell_type": "code",
      "execution_count": 123,
      "metadata": {
        "id": "7B4RWNoUdjpJ"
      },
      "outputs": [],
      "source": [
        "import pandas as pd\n",
        "from google.colab import drive\n",
        "\n",
        "%matplotlib inline"
      ]
    },
    {
      "cell_type": "markdown",
      "source": [
        "Carregamento do Drive para que o notebook possa acessar os arquivos do Google Drive e com o parâmetro \"force_remount=True\" para que o Drive seja montado a cada execução do notebook."
      ],
      "metadata": {
        "id": "zmGbGmOKeBUr"
      }
    },
    {
      "cell_type": "code",
      "source": [
        "drive.mount('/content/drive', force_remount=True)"
      ],
      "metadata": {
        "colab": {
          "base_uri": "https://localhost:8080/"
        },
        "id": "i_0m5901eCKp",
        "outputId": "c7f4f0b5-8f04-487f-d74f-d7bd51360bbc"
      },
      "execution_count": 124,
      "outputs": [
        {
          "output_type": "stream",
          "name": "stdout",
          "text": [
            "Mounted at /content/drive\n"
          ]
        }
      ]
    },
    {
      "cell_type": "markdown",
      "source": [
        "# Leitura e visualização do dataset"
      ],
      "metadata": {
        "id": "VQEyOEJKeDQu"
      }
    },
    {
      "cell_type": "markdown",
      "source": [
        "Leitura do arquivo \"dataset.csv\" através da função \"read_csv\" do Pandas e armazenamento do resultado na variável \"df\". Uso do parâmetro \"sep\" para informar qual o separador de colunas do arquivo e do parâmetro \"encoding\" para informar qual o tipo de codificação do arquivo."
      ],
      "metadata": {
        "id": "kkePYyaZeHIs"
      }
    },
    {
      "cell_type": "code",
      "source": [
        "csv_url = \"https://github.com/viniciusgugelmin/data-science-3/blob/main/projects/valorant_stats/data/dataset.csv?raw=true\"\n",
        "\n",
        "df = pd.read_csv(csv_url, sep=',', encoding='utf-8', low_memory=False)"
      ],
      "metadata": {
        "id": "fgjIAQpgeTe4"
      },
      "execution_count": 125,
      "outputs": []
    },
    {
      "cell_type": "markdown",
      "source": [
        "Atribuição do limite na exibição do dataset para 50 colunas e 20 linhas, afim de conseguir visualizar melhor os dados."
      ],
      "metadata": {
        "id": "nG_Dcouiin6k"
      }
    },
    {
      "cell_type": "code",
      "source": [
        "pd.set_option('display.max_columns', 50)\n",
        "pd.set_option('display.max_rows', 20)"
      ],
      "metadata": {
        "id": "oOcWW65oiqMv"
      },
      "execution_count": 126,
      "outputs": []
    },
    {
      "cell_type": "markdown",
      "source": [
        "Exibição das 5 primeiras linhas do DataFrame através da função \"head\" do Pandas para verificar se o arquivo foi carregado corretamente e ter uma ideia do que ele contém."
      ],
      "metadata": {
        "id": "WxLRcM3Vez0P"
      }
    },
    {
      "cell_type": "code",
      "source": [
        "df.head()"
      ],
      "metadata": {
        "colab": {
          "base_uri": "https://localhost:8080/",
          "height": 270
        },
        "id": "WIk3o7r7e0Rm",
        "outputId": "c59194ef-41f0-4954-a1fd-77acb59f37f8"
      },
      "execution_count": 127,
      "outputs": [
        {
          "output_type": "execute_result",
          "data": {
            "text/plain": [
              "  region           name     tag   rating  damage_round headshots  \\\n",
              "0    NaN       ShimmyXD    #NA1  Radiant         135.8       992   \n",
              "1    NaN      XSET Cryo  #cells  Radiant         170.3       879   \n",
              "2    NaN  PuRelittleone  #yoruW  Radiant         147.5       720   \n",
              "3    NaN           Boba   #0068  Radiant         178.2       856   \n",
              "4    NaN    i love mina  #kelly  Radiant         149.8       534   \n",
              "\n",
              "   headshot_percent  aces  clutches  flawless first_bloods  kills deaths  \\\n",
              "0              24.9     0       140        80          161  1,506  1,408   \n",
              "1              28.3     2       122        94          316  1,608  1,187   \n",
              "2              24.0     3       117        59          216  1,115  1,064   \n",
              "3              37.3     3        83        49          235  1,134    812   \n",
              "4              24.4     2        71        38          137    869    781   \n",
              "\n",
              "  assists  kd_ratio  kills_round  most_kills  score_round  wins  win_percent  \\\n",
              "0     703      1.07          0.7          29        208.8    59         59.6   \n",
              "1     206      1.35          1.0          32        270.6    52         65.8   \n",
              "2     267      1.05          0.8          39        227.8    42         65.6   \n",
              "3     157      1.40          1.0          37        277.0    32         62.8   \n",
              "4     213      1.11          0.8          29        230.9    32         62.8   \n",
              "\n",
              "   agent_1  agent_2  agent_3 gun1_name  gun1_head  gun1_body  gun1_legs  \\\n",
              "0     Fade    Viper     Omen    Vandal         35         59          5   \n",
              "1  Chamber     Jett     Raze    Vandal         41         56          3   \n",
              "2     Yoru     Jett  Chamber    Vandal         38         57          4   \n",
              "3     Jett  Chamber    KAY/O    Vandal         51         47          2   \n",
              "4     Jett     Raze  Chamber    Vandal         36         60          4   \n",
              "\n",
              "  gun1_kills gun2_name  gun2_head  gun2_body  gun2_legs gun2_kills gun3_name  \\\n",
              "0        802   Phantom         33         62          5        220   Classic   \n",
              "1        689  Operator          8         91          0        226   Phantom   \n",
              "2        444   Phantom         36         61          3        231  Operator   \n",
              "3        754   Sheriff         48         51          1         48   Phantom   \n",
              "4        419   Spectre         21         71          8         65  Operator   \n",
              "\n",
              "   gun3_head  gun3_body  gun3_legs  gun3_kills  \n",
              "0         36         60          3         147  \n",
              "1         32         63          5         137  \n",
              "2          8         91          1         102  \n",
              "3         44         56          0          36  \n",
              "4          8         92          0          64  "
            ],
            "text/html": [
              "\n",
              "  <div id=\"df-d59ebeae-f95e-4bd9-8b78-684a225324cf\">\n",
              "    <div class=\"colab-df-container\">\n",
              "      <div>\n",
              "<style scoped>\n",
              "    .dataframe tbody tr th:only-of-type {\n",
              "        vertical-align: middle;\n",
              "    }\n",
              "\n",
              "    .dataframe tbody tr th {\n",
              "        vertical-align: top;\n",
              "    }\n",
              "\n",
              "    .dataframe thead th {\n",
              "        text-align: right;\n",
              "    }\n",
              "</style>\n",
              "<table border=\"1\" class=\"dataframe\">\n",
              "  <thead>\n",
              "    <tr style=\"text-align: right;\">\n",
              "      <th></th>\n",
              "      <th>region</th>\n",
              "      <th>name</th>\n",
              "      <th>tag</th>\n",
              "      <th>rating</th>\n",
              "      <th>damage_round</th>\n",
              "      <th>headshots</th>\n",
              "      <th>headshot_percent</th>\n",
              "      <th>aces</th>\n",
              "      <th>clutches</th>\n",
              "      <th>flawless</th>\n",
              "      <th>first_bloods</th>\n",
              "      <th>kills</th>\n",
              "      <th>deaths</th>\n",
              "      <th>assists</th>\n",
              "      <th>kd_ratio</th>\n",
              "      <th>kills_round</th>\n",
              "      <th>most_kills</th>\n",
              "      <th>score_round</th>\n",
              "      <th>wins</th>\n",
              "      <th>win_percent</th>\n",
              "      <th>agent_1</th>\n",
              "      <th>agent_2</th>\n",
              "      <th>agent_3</th>\n",
              "      <th>gun1_name</th>\n",
              "      <th>gun1_head</th>\n",
              "      <th>gun1_body</th>\n",
              "      <th>gun1_legs</th>\n",
              "      <th>gun1_kills</th>\n",
              "      <th>gun2_name</th>\n",
              "      <th>gun2_head</th>\n",
              "      <th>gun2_body</th>\n",
              "      <th>gun2_legs</th>\n",
              "      <th>gun2_kills</th>\n",
              "      <th>gun3_name</th>\n",
              "      <th>gun3_head</th>\n",
              "      <th>gun3_body</th>\n",
              "      <th>gun3_legs</th>\n",
              "      <th>gun3_kills</th>\n",
              "    </tr>\n",
              "  </thead>\n",
              "  <tbody>\n",
              "    <tr>\n",
              "      <th>0</th>\n",
              "      <td>NaN</td>\n",
              "      <td>ShimmyXD</td>\n",
              "      <td>#NA1</td>\n",
              "      <td>Radiant</td>\n",
              "      <td>135.8</td>\n",
              "      <td>992</td>\n",
              "      <td>24.9</td>\n",
              "      <td>0</td>\n",
              "      <td>140</td>\n",
              "      <td>80</td>\n",
              "      <td>161</td>\n",
              "      <td>1,506</td>\n",
              "      <td>1,408</td>\n",
              "      <td>703</td>\n",
              "      <td>1.07</td>\n",
              "      <td>0.7</td>\n",
              "      <td>29</td>\n",
              "      <td>208.8</td>\n",
              "      <td>59</td>\n",
              "      <td>59.6</td>\n",
              "      <td>Fade</td>\n",
              "      <td>Viper</td>\n",
              "      <td>Omen</td>\n",
              "      <td>Vandal</td>\n",
              "      <td>35</td>\n",
              "      <td>59</td>\n",
              "      <td>5</td>\n",
              "      <td>802</td>\n",
              "      <td>Phantom</td>\n",
              "      <td>33</td>\n",
              "      <td>62</td>\n",
              "      <td>5</td>\n",
              "      <td>220</td>\n",
              "      <td>Classic</td>\n",
              "      <td>36</td>\n",
              "      <td>60</td>\n",
              "      <td>3</td>\n",
              "      <td>147</td>\n",
              "    </tr>\n",
              "    <tr>\n",
              "      <th>1</th>\n",
              "      <td>NaN</td>\n",
              "      <td>XSET Cryo</td>\n",
              "      <td>#cells</td>\n",
              "      <td>Radiant</td>\n",
              "      <td>170.3</td>\n",
              "      <td>879</td>\n",
              "      <td>28.3</td>\n",
              "      <td>2</td>\n",
              "      <td>122</td>\n",
              "      <td>94</td>\n",
              "      <td>316</td>\n",
              "      <td>1,608</td>\n",
              "      <td>1,187</td>\n",
              "      <td>206</td>\n",
              "      <td>1.35</td>\n",
              "      <td>1.0</td>\n",
              "      <td>32</td>\n",
              "      <td>270.6</td>\n",
              "      <td>52</td>\n",
              "      <td>65.8</td>\n",
              "      <td>Chamber</td>\n",
              "      <td>Jett</td>\n",
              "      <td>Raze</td>\n",
              "      <td>Vandal</td>\n",
              "      <td>41</td>\n",
              "      <td>56</td>\n",
              "      <td>3</td>\n",
              "      <td>689</td>\n",
              "      <td>Operator</td>\n",
              "      <td>8</td>\n",
              "      <td>91</td>\n",
              "      <td>0</td>\n",
              "      <td>226</td>\n",
              "      <td>Phantom</td>\n",
              "      <td>32</td>\n",
              "      <td>63</td>\n",
              "      <td>5</td>\n",
              "      <td>137</td>\n",
              "    </tr>\n",
              "    <tr>\n",
              "      <th>2</th>\n",
              "      <td>NaN</td>\n",
              "      <td>PuRelittleone</td>\n",
              "      <td>#yoruW</td>\n",
              "      <td>Radiant</td>\n",
              "      <td>147.5</td>\n",
              "      <td>720</td>\n",
              "      <td>24.0</td>\n",
              "      <td>3</td>\n",
              "      <td>117</td>\n",
              "      <td>59</td>\n",
              "      <td>216</td>\n",
              "      <td>1,115</td>\n",
              "      <td>1,064</td>\n",
              "      <td>267</td>\n",
              "      <td>1.05</td>\n",
              "      <td>0.8</td>\n",
              "      <td>39</td>\n",
              "      <td>227.8</td>\n",
              "      <td>42</td>\n",
              "      <td>65.6</td>\n",
              "      <td>Yoru</td>\n",
              "      <td>Jett</td>\n",
              "      <td>Chamber</td>\n",
              "      <td>Vandal</td>\n",
              "      <td>38</td>\n",
              "      <td>57</td>\n",
              "      <td>4</td>\n",
              "      <td>444</td>\n",
              "      <td>Phantom</td>\n",
              "      <td>36</td>\n",
              "      <td>61</td>\n",
              "      <td>3</td>\n",
              "      <td>231</td>\n",
              "      <td>Operator</td>\n",
              "      <td>8</td>\n",
              "      <td>91</td>\n",
              "      <td>1</td>\n",
              "      <td>102</td>\n",
              "    </tr>\n",
              "    <tr>\n",
              "      <th>3</th>\n",
              "      <td>NaN</td>\n",
              "      <td>Boba</td>\n",
              "      <td>#0068</td>\n",
              "      <td>Radiant</td>\n",
              "      <td>178.2</td>\n",
              "      <td>856</td>\n",
              "      <td>37.3</td>\n",
              "      <td>3</td>\n",
              "      <td>83</td>\n",
              "      <td>49</td>\n",
              "      <td>235</td>\n",
              "      <td>1,134</td>\n",
              "      <td>812</td>\n",
              "      <td>157</td>\n",
              "      <td>1.40</td>\n",
              "      <td>1.0</td>\n",
              "      <td>37</td>\n",
              "      <td>277.0</td>\n",
              "      <td>32</td>\n",
              "      <td>62.8</td>\n",
              "      <td>Jett</td>\n",
              "      <td>Chamber</td>\n",
              "      <td>KAY/O</td>\n",
              "      <td>Vandal</td>\n",
              "      <td>51</td>\n",
              "      <td>47</td>\n",
              "      <td>2</td>\n",
              "      <td>754</td>\n",
              "      <td>Sheriff</td>\n",
              "      <td>48</td>\n",
              "      <td>51</td>\n",
              "      <td>1</td>\n",
              "      <td>48</td>\n",
              "      <td>Phantom</td>\n",
              "      <td>44</td>\n",
              "      <td>56</td>\n",
              "      <td>0</td>\n",
              "      <td>36</td>\n",
              "    </tr>\n",
              "    <tr>\n",
              "      <th>4</th>\n",
              "      <td>NaN</td>\n",
              "      <td>i love mina</td>\n",
              "      <td>#kelly</td>\n",
              "      <td>Radiant</td>\n",
              "      <td>149.8</td>\n",
              "      <td>534</td>\n",
              "      <td>24.4</td>\n",
              "      <td>2</td>\n",
              "      <td>71</td>\n",
              "      <td>38</td>\n",
              "      <td>137</td>\n",
              "      <td>869</td>\n",
              "      <td>781</td>\n",
              "      <td>213</td>\n",
              "      <td>1.11</td>\n",
              "      <td>0.8</td>\n",
              "      <td>29</td>\n",
              "      <td>230.9</td>\n",
              "      <td>32</td>\n",
              "      <td>62.8</td>\n",
              "      <td>Jett</td>\n",
              "      <td>Raze</td>\n",
              "      <td>Chamber</td>\n",
              "      <td>Vandal</td>\n",
              "      <td>36</td>\n",
              "      <td>60</td>\n",
              "      <td>4</td>\n",
              "      <td>419</td>\n",
              "      <td>Spectre</td>\n",
              "      <td>21</td>\n",
              "      <td>71</td>\n",
              "      <td>8</td>\n",
              "      <td>65</td>\n",
              "      <td>Operator</td>\n",
              "      <td>8</td>\n",
              "      <td>92</td>\n",
              "      <td>0</td>\n",
              "      <td>64</td>\n",
              "    </tr>\n",
              "  </tbody>\n",
              "</table>\n",
              "</div>\n",
              "      <button class=\"colab-df-convert\" onclick=\"convertToInteractive('df-d59ebeae-f95e-4bd9-8b78-684a225324cf')\"\n",
              "              title=\"Convert this dataframe to an interactive table.\"\n",
              "              style=\"display:none;\">\n",
              "        \n",
              "  <svg xmlns=\"http://www.w3.org/2000/svg\" height=\"24px\"viewBox=\"0 0 24 24\"\n",
              "       width=\"24px\">\n",
              "    <path d=\"M0 0h24v24H0V0z\" fill=\"none\"/>\n",
              "    <path d=\"M18.56 5.44l.94 2.06.94-2.06 2.06-.94-2.06-.94-.94-2.06-.94 2.06-2.06.94zm-11 1L8.5 8.5l.94-2.06 2.06-.94-2.06-.94L8.5 2.5l-.94 2.06-2.06.94zm10 10l.94 2.06.94-2.06 2.06-.94-2.06-.94-.94-2.06-.94 2.06-2.06.94z\"/><path d=\"M17.41 7.96l-1.37-1.37c-.4-.4-.92-.59-1.43-.59-.52 0-1.04.2-1.43.59L10.3 9.45l-7.72 7.72c-.78.78-.78 2.05 0 2.83L4 21.41c.39.39.9.59 1.41.59.51 0 1.02-.2 1.41-.59l7.78-7.78 2.81-2.81c.8-.78.8-2.07 0-2.86zM5.41 20L4 18.59l7.72-7.72 1.47 1.35L5.41 20z\"/>\n",
              "  </svg>\n",
              "      </button>\n",
              "      \n",
              "  <style>\n",
              "    .colab-df-container {\n",
              "      display:flex;\n",
              "      flex-wrap:wrap;\n",
              "      gap: 12px;\n",
              "    }\n",
              "\n",
              "    .colab-df-convert {\n",
              "      background-color: #E8F0FE;\n",
              "      border: none;\n",
              "      border-radius: 50%;\n",
              "      cursor: pointer;\n",
              "      display: none;\n",
              "      fill: #1967D2;\n",
              "      height: 32px;\n",
              "      padding: 0 0 0 0;\n",
              "      width: 32px;\n",
              "    }\n",
              "\n",
              "    .colab-df-convert:hover {\n",
              "      background-color: #E2EBFA;\n",
              "      box-shadow: 0px 1px 2px rgba(60, 64, 67, 0.3), 0px 1px 3px 1px rgba(60, 64, 67, 0.15);\n",
              "      fill: #174EA6;\n",
              "    }\n",
              "\n",
              "    [theme=dark] .colab-df-convert {\n",
              "      background-color: #3B4455;\n",
              "      fill: #D2E3FC;\n",
              "    }\n",
              "\n",
              "    [theme=dark] .colab-df-convert:hover {\n",
              "      background-color: #434B5C;\n",
              "      box-shadow: 0px 1px 3px 1px rgba(0, 0, 0, 0.15);\n",
              "      filter: drop-shadow(0px 1px 2px rgba(0, 0, 0, 0.3));\n",
              "      fill: #FFFFFF;\n",
              "    }\n",
              "  </style>\n",
              "\n",
              "      <script>\n",
              "        const buttonEl =\n",
              "          document.querySelector('#df-d59ebeae-f95e-4bd9-8b78-684a225324cf button.colab-df-convert');\n",
              "        buttonEl.style.display =\n",
              "          google.colab.kernel.accessAllowed ? 'block' : 'none';\n",
              "\n",
              "        async function convertToInteractive(key) {\n",
              "          const element = document.querySelector('#df-d59ebeae-f95e-4bd9-8b78-684a225324cf');\n",
              "          const dataTable =\n",
              "            await google.colab.kernel.invokeFunction('convertToInteractive',\n",
              "                                                     [key], {});\n",
              "          if (!dataTable) return;\n",
              "\n",
              "          const docLinkHtml = 'Like what you see? Visit the ' +\n",
              "            '<a target=\"_blank\" href=https://colab.research.google.com/notebooks/data_table.ipynb>data table notebook</a>'\n",
              "            + ' to learn more about interactive tables.';\n",
              "          element.innerHTML = '';\n",
              "          dataTable['output_type'] = 'display_data';\n",
              "          await google.colab.output.renderOutput(dataTable, element);\n",
              "          const docLink = document.createElement('div');\n",
              "          docLink.innerHTML = docLinkHtml;\n",
              "          element.appendChild(docLink);\n",
              "        }\n",
              "      </script>\n",
              "    </div>\n",
              "  </div>\n",
              "  "
            ]
          },
          "metadata": {},
          "execution_count": 127
        }
      ]
    },
    {
      "cell_type": "markdown",
      "source": [
        "# Processo inicial de limpeza"
      ],
      "metadata": {
        "id": "R0S-f51ge46t"
      }
    },
    {
      "cell_type": "markdown",
      "source": [
        "Apenas visualização das colunas"
      ],
      "metadata": {
        "id": "o0DScV_9zK_2"
      }
    },
    {
      "cell_type": "code",
      "source": [
        "df.columns"
      ],
      "metadata": {
        "colab": {
          "base_uri": "https://localhost:8080/"
        },
        "id": "K8-1Io-UmR2A",
        "outputId": "76145e36-23b1-4835-8615-fd516c52990f"
      },
      "execution_count": 128,
      "outputs": [
        {
          "output_type": "execute_result",
          "data": {
            "text/plain": [
              "Index(['region', 'name', 'tag', 'rating', 'damage_round', 'headshots',\n",
              "       'headshot_percent', 'aces', 'clutches', 'flawless', 'first_bloods',\n",
              "       'kills', 'deaths', 'assists', 'kd_ratio', 'kills_round', 'most_kills',\n",
              "       'score_round', 'wins', 'win_percent', 'agent_1', 'agent_2', 'agent_3',\n",
              "       'gun1_name', 'gun1_head', 'gun1_body', 'gun1_legs', 'gun1_kills',\n",
              "       'gun2_name', 'gun2_head', 'gun2_body', 'gun2_legs', 'gun2_kills',\n",
              "       'gun3_name', 'gun3_head', 'gun3_body', 'gun3_legs', 'gun3_kills'],\n",
              "      dtype='object')"
            ]
          },
          "metadata": {},
          "execution_count": 128
        }
      ]
    },
    {
      "cell_type": "markdown",
      "source": [
        "Antes de tudo resolvemos tirar jogadores que tenham menos de 20 vitórias, para assim evitarmos outliers como jogadores não ativos que acabam apenas jogando poucas partidas e estagnando no elo/ranque obtido, sabendo que para ser um jogador relevante ele acabará tendo muito mais que 20 vitórias, jogando ainda mais o jogo."
      ],
      "metadata": {
        "id": "zMOzY5-by2Xs"
      }
    },
    {
      "cell_type": "code",
      "source": [
        "df = df[df['wins'] > 20]"
      ],
      "metadata": {
        "id": "sOdfXR-wy10s"
      },
      "execution_count": 129,
      "outputs": []
    },
    {
      "cell_type": "markdown",
      "source": [
        "Escolhemos tirar a região e etiqueta pois são dados não tão relevantes para esta pesquisa. Tiramos eliminações e vezes eliminadas pois já temos o percentual que é o cálculo que contém os dois números. Tiramos maior quantidade de eliminações e total de vitórias pois acaba sendo algo não tão relevante para o aprendizado, visto que os dados são bem parecidos na maioria dos casos e pode acabar mais confundindo do que ajudando. E por fim, tiramos dados de agentes e armas secundárias e terciárias pois não são tão relevantes."
      ],
      "metadata": {
        "id": "4M_7TGKwlBV2"
      }
    },
    {
      "cell_type": "code",
      "source": [
        "df.drop(['region', 'tag', 'kills', 'deaths', 'most_kills', 'wins', 'agent_2', 'agent_3', 'gun1_kills'], inplace=True, axis=1)\n",
        "df = df.drop(df.filter(regex='gun2_|gun3_|_head|_body|_legs').columns, axis=1)\n",
        "df.head()"
      ],
      "metadata": {
        "colab": {
          "base_uri": "https://localhost:8080/",
          "height": 293
        },
        "id": "5kLuD0Azi8NV",
        "outputId": "bb83cf10-078e-447d-9420-3de859a257ca"
      },
      "execution_count": 130,
      "outputs": [
        {
          "output_type": "stream",
          "name": "stderr",
          "text": [
            "/usr/local/lib/python3.7/dist-packages/pandas/core/frame.py:4913: SettingWithCopyWarning: \n",
            "A value is trying to be set on a copy of a slice from a DataFrame\n",
            "\n",
            "See the caveats in the documentation: https://pandas.pydata.org/pandas-docs/stable/user_guide/indexing.html#returning-a-view-versus-a-copy\n",
            "  errors=errors,\n"
          ]
        },
        {
          "output_type": "execute_result",
          "data": {
            "text/plain": [
              "            name   rating  damage_round headshots  headshot_percent  aces  \\\n",
              "0       ShimmyXD  Radiant         135.8       992              24.9     0   \n",
              "1      XSET Cryo  Radiant         170.3       879              28.3     2   \n",
              "2  PuRelittleone  Radiant         147.5       720              24.0     3   \n",
              "3           Boba  Radiant         178.2       856              37.3     3   \n",
              "4    i love mina  Radiant         149.8       534              24.4     2   \n",
              "\n",
              "   clutches  flawless first_bloods assists  kd_ratio  kills_round  \\\n",
              "0       140        80          161     703      1.07          0.7   \n",
              "1       122        94          316     206      1.35          1.0   \n",
              "2       117        59          216     267      1.05          0.8   \n",
              "3        83        49          235     157      1.40          1.0   \n",
              "4        71        38          137     213      1.11          0.8   \n",
              "\n",
              "   score_round  win_percent  agent_1 gun1_name  \n",
              "0        208.8         59.6     Fade    Vandal  \n",
              "1        270.6         65.8  Chamber    Vandal  \n",
              "2        227.8         65.6     Yoru    Vandal  \n",
              "3        277.0         62.8     Jett    Vandal  \n",
              "4        230.9         62.8     Jett    Vandal  "
            ],
            "text/html": [
              "\n",
              "  <div id=\"df-725a5f12-6e07-4c2c-b4e5-9b9ed65ff45f\">\n",
              "    <div class=\"colab-df-container\">\n",
              "      <div>\n",
              "<style scoped>\n",
              "    .dataframe tbody tr th:only-of-type {\n",
              "        vertical-align: middle;\n",
              "    }\n",
              "\n",
              "    .dataframe tbody tr th {\n",
              "        vertical-align: top;\n",
              "    }\n",
              "\n",
              "    .dataframe thead th {\n",
              "        text-align: right;\n",
              "    }\n",
              "</style>\n",
              "<table border=\"1\" class=\"dataframe\">\n",
              "  <thead>\n",
              "    <tr style=\"text-align: right;\">\n",
              "      <th></th>\n",
              "      <th>name</th>\n",
              "      <th>rating</th>\n",
              "      <th>damage_round</th>\n",
              "      <th>headshots</th>\n",
              "      <th>headshot_percent</th>\n",
              "      <th>aces</th>\n",
              "      <th>clutches</th>\n",
              "      <th>flawless</th>\n",
              "      <th>first_bloods</th>\n",
              "      <th>assists</th>\n",
              "      <th>kd_ratio</th>\n",
              "      <th>kills_round</th>\n",
              "      <th>score_round</th>\n",
              "      <th>win_percent</th>\n",
              "      <th>agent_1</th>\n",
              "      <th>gun1_name</th>\n",
              "    </tr>\n",
              "  </thead>\n",
              "  <tbody>\n",
              "    <tr>\n",
              "      <th>0</th>\n",
              "      <td>ShimmyXD</td>\n",
              "      <td>Radiant</td>\n",
              "      <td>135.8</td>\n",
              "      <td>992</td>\n",
              "      <td>24.9</td>\n",
              "      <td>0</td>\n",
              "      <td>140</td>\n",
              "      <td>80</td>\n",
              "      <td>161</td>\n",
              "      <td>703</td>\n",
              "      <td>1.07</td>\n",
              "      <td>0.7</td>\n",
              "      <td>208.8</td>\n",
              "      <td>59.6</td>\n",
              "      <td>Fade</td>\n",
              "      <td>Vandal</td>\n",
              "    </tr>\n",
              "    <tr>\n",
              "      <th>1</th>\n",
              "      <td>XSET Cryo</td>\n",
              "      <td>Radiant</td>\n",
              "      <td>170.3</td>\n",
              "      <td>879</td>\n",
              "      <td>28.3</td>\n",
              "      <td>2</td>\n",
              "      <td>122</td>\n",
              "      <td>94</td>\n",
              "      <td>316</td>\n",
              "      <td>206</td>\n",
              "      <td>1.35</td>\n",
              "      <td>1.0</td>\n",
              "      <td>270.6</td>\n",
              "      <td>65.8</td>\n",
              "      <td>Chamber</td>\n",
              "      <td>Vandal</td>\n",
              "    </tr>\n",
              "    <tr>\n",
              "      <th>2</th>\n",
              "      <td>PuRelittleone</td>\n",
              "      <td>Radiant</td>\n",
              "      <td>147.5</td>\n",
              "      <td>720</td>\n",
              "      <td>24.0</td>\n",
              "      <td>3</td>\n",
              "      <td>117</td>\n",
              "      <td>59</td>\n",
              "      <td>216</td>\n",
              "      <td>267</td>\n",
              "      <td>1.05</td>\n",
              "      <td>0.8</td>\n",
              "      <td>227.8</td>\n",
              "      <td>65.6</td>\n",
              "      <td>Yoru</td>\n",
              "      <td>Vandal</td>\n",
              "    </tr>\n",
              "    <tr>\n",
              "      <th>3</th>\n",
              "      <td>Boba</td>\n",
              "      <td>Radiant</td>\n",
              "      <td>178.2</td>\n",
              "      <td>856</td>\n",
              "      <td>37.3</td>\n",
              "      <td>3</td>\n",
              "      <td>83</td>\n",
              "      <td>49</td>\n",
              "      <td>235</td>\n",
              "      <td>157</td>\n",
              "      <td>1.40</td>\n",
              "      <td>1.0</td>\n",
              "      <td>277.0</td>\n",
              "      <td>62.8</td>\n",
              "      <td>Jett</td>\n",
              "      <td>Vandal</td>\n",
              "    </tr>\n",
              "    <tr>\n",
              "      <th>4</th>\n",
              "      <td>i love mina</td>\n",
              "      <td>Radiant</td>\n",
              "      <td>149.8</td>\n",
              "      <td>534</td>\n",
              "      <td>24.4</td>\n",
              "      <td>2</td>\n",
              "      <td>71</td>\n",
              "      <td>38</td>\n",
              "      <td>137</td>\n",
              "      <td>213</td>\n",
              "      <td>1.11</td>\n",
              "      <td>0.8</td>\n",
              "      <td>230.9</td>\n",
              "      <td>62.8</td>\n",
              "      <td>Jett</td>\n",
              "      <td>Vandal</td>\n",
              "    </tr>\n",
              "  </tbody>\n",
              "</table>\n",
              "</div>\n",
              "      <button class=\"colab-df-convert\" onclick=\"convertToInteractive('df-725a5f12-6e07-4c2c-b4e5-9b9ed65ff45f')\"\n",
              "              title=\"Convert this dataframe to an interactive table.\"\n",
              "              style=\"display:none;\">\n",
              "        \n",
              "  <svg xmlns=\"http://www.w3.org/2000/svg\" height=\"24px\"viewBox=\"0 0 24 24\"\n",
              "       width=\"24px\">\n",
              "    <path d=\"M0 0h24v24H0V0z\" fill=\"none\"/>\n",
              "    <path d=\"M18.56 5.44l.94 2.06.94-2.06 2.06-.94-2.06-.94-.94-2.06-.94 2.06-2.06.94zm-11 1L8.5 8.5l.94-2.06 2.06-.94-2.06-.94L8.5 2.5l-.94 2.06-2.06.94zm10 10l.94 2.06.94-2.06 2.06-.94-2.06-.94-.94-2.06-.94 2.06-2.06.94z\"/><path d=\"M17.41 7.96l-1.37-1.37c-.4-.4-.92-.59-1.43-.59-.52 0-1.04.2-1.43.59L10.3 9.45l-7.72 7.72c-.78.78-.78 2.05 0 2.83L4 21.41c.39.39.9.59 1.41.59.51 0 1.02-.2 1.41-.59l7.78-7.78 2.81-2.81c.8-.78.8-2.07 0-2.86zM5.41 20L4 18.59l7.72-7.72 1.47 1.35L5.41 20z\"/>\n",
              "  </svg>\n",
              "      </button>\n",
              "      \n",
              "  <style>\n",
              "    .colab-df-container {\n",
              "      display:flex;\n",
              "      flex-wrap:wrap;\n",
              "      gap: 12px;\n",
              "    }\n",
              "\n",
              "    .colab-df-convert {\n",
              "      background-color: #E8F0FE;\n",
              "      border: none;\n",
              "      border-radius: 50%;\n",
              "      cursor: pointer;\n",
              "      display: none;\n",
              "      fill: #1967D2;\n",
              "      height: 32px;\n",
              "      padding: 0 0 0 0;\n",
              "      width: 32px;\n",
              "    }\n",
              "\n",
              "    .colab-df-convert:hover {\n",
              "      background-color: #E2EBFA;\n",
              "      box-shadow: 0px 1px 2px rgba(60, 64, 67, 0.3), 0px 1px 3px 1px rgba(60, 64, 67, 0.15);\n",
              "      fill: #174EA6;\n",
              "    }\n",
              "\n",
              "    [theme=dark] .colab-df-convert {\n",
              "      background-color: #3B4455;\n",
              "      fill: #D2E3FC;\n",
              "    }\n",
              "\n",
              "    [theme=dark] .colab-df-convert:hover {\n",
              "      background-color: #434B5C;\n",
              "      box-shadow: 0px 1px 3px 1px rgba(0, 0, 0, 0.15);\n",
              "      filter: drop-shadow(0px 1px 2px rgba(0, 0, 0, 0.3));\n",
              "      fill: #FFFFFF;\n",
              "    }\n",
              "  </style>\n",
              "\n",
              "      <script>\n",
              "        const buttonEl =\n",
              "          document.querySelector('#df-725a5f12-6e07-4c2c-b4e5-9b9ed65ff45f button.colab-df-convert');\n",
              "        buttonEl.style.display =\n",
              "          google.colab.kernel.accessAllowed ? 'block' : 'none';\n",
              "\n",
              "        async function convertToInteractive(key) {\n",
              "          const element = document.querySelector('#df-725a5f12-6e07-4c2c-b4e5-9b9ed65ff45f');\n",
              "          const dataTable =\n",
              "            await google.colab.kernel.invokeFunction('convertToInteractive',\n",
              "                                                     [key], {});\n",
              "          if (!dataTable) return;\n",
              "\n",
              "          const docLinkHtml = 'Like what you see? Visit the ' +\n",
              "            '<a target=\"_blank\" href=https://colab.research.google.com/notebooks/data_table.ipynb>data table notebook</a>'\n",
              "            + ' to learn more about interactive tables.';\n",
              "          element.innerHTML = '';\n",
              "          dataTable['output_type'] = 'display_data';\n",
              "          await google.colab.output.renderOutput(dataTable, element);\n",
              "          const docLink = document.createElement('div');\n",
              "          docLink.innerHTML = docLinkHtml;\n",
              "          element.appendChild(docLink);\n",
              "        }\n",
              "      </script>\n",
              "    </div>\n",
              "  </div>\n",
              "  "
            ]
          },
          "metadata": {},
          "execution_count": 130
        }
      ]
    },
    {
      "cell_type": "markdown",
      "source": [
        "# Processo de limpeza de dados nulos e padronização de dados"
      ],
      "metadata": {
        "id": "bPSJmrU8mMex"
      }
    },
    {
      "cell_type": "markdown",
      "source": [
        "Utilização do método **info** para tentar encontrar valores nulos que não deveriam ser nulos."
      ],
      "metadata": {
        "id": "q1QmImwPmPd4"
      }
    },
    {
      "cell_type": "code",
      "source": [
        "df_cleaned = df.copy()\n",
        "\n",
        "df_cleaned.info()"
      ],
      "metadata": {
        "colab": {
          "base_uri": "https://localhost:8080/"
        },
        "id": "oyJ_V1WumUsz",
        "outputId": "ebc2619f-5d4c-49f7-fd9f-9a59f02e2be7"
      },
      "execution_count": 131,
      "outputs": [
        {
          "output_type": "stream",
          "name": "stdout",
          "text": [
            "<class 'pandas.core.frame.DataFrame'>\n",
            "Int64Index: 41103 entries, 0 to 85677\n",
            "Data columns (total 16 columns):\n",
            " #   Column            Non-Null Count  Dtype  \n",
            "---  ------            --------------  -----  \n",
            " 0   name              41103 non-null  object \n",
            " 1   rating            41103 non-null  object \n",
            " 2   damage_round      41103 non-null  float64\n",
            " 3   headshots         41103 non-null  object \n",
            " 4   headshot_percent  41103 non-null  float64\n",
            " 5   aces              41103 non-null  int64  \n",
            " 6   clutches          41103 non-null  int64  \n",
            " 7   flawless          41103 non-null  int64  \n",
            " 8   first_bloods      41103 non-null  object \n",
            " 9   assists           41103 non-null  object \n",
            " 10  kd_ratio          41103 non-null  float64\n",
            " 11  kills_round       41103 non-null  float64\n",
            " 12  score_round       41103 non-null  float64\n",
            " 13  win_percent       41103 non-null  float64\n",
            " 14  agent_1           41103 non-null  object \n",
            " 15  gun1_name         41103 non-null  object \n",
            "dtypes: float64(6), int64(3), object(7)\n",
            "memory usage: 5.3+ MB\n"
          ]
        }
      ]
    },
    {
      "cell_type": "markdown",
      "source": [
        "Acabamos percebendo que temos linhas com nomes de jogadores vazio, então resolvemos tirar mesmo que não seja algo relevante para o aprendizado supervisionado, acaba atrapalhando na comprovação e amostragem dos dados. Também retiramos colunas numéricas com valores igual a 0, que provavelmente são os nossos outliers."
      ],
      "metadata": {
        "id": "5LBm8bnumq-5"
      }
    },
    {
      "cell_type": "code",
      "source": [
        "df_cleaned = df_cleaned[df_cleaned['name'].notna()]\n",
        "df_cleaned = df_cleaned[df_cleaned['headshots'] != \"0\"]\n",
        "df_cleaned = df_cleaned[df_cleaned['headshot_percent'] != \"0\"]\n",
        "df_cleaned = df_cleaned[df_cleaned['aces'] != \"0\"]\n",
        "df_cleaned = df_cleaned[df_cleaned['clutches'] != \"0\"]\n",
        "df_cleaned = df_cleaned[df_cleaned['flawless'] != \"0\"]\n",
        "df_cleaned = df_cleaned[df_cleaned['first_bloods'] != \"0\"]\n",
        "df_cleaned = df_cleaned[df_cleaned['assists'] != \"0\"]\n",
        "df_cleaned = df_cleaned[df_cleaned['kd_ratio'] != \"0\"]\n",
        "df_cleaned = df_cleaned[df_cleaned['kills_round'] != \"0\"]\n",
        "df_cleaned = df_cleaned[df_cleaned['score_round'] != \"0\"]\n",
        "df_cleaned = df_cleaned[df_cleaned['win_percent'] != \"0\"]\n",
        "df_cleaned = df_cleaned[df_cleaned['win_percent'] != \"0.0\"]\n",
        "df_cleaned = df_cleaned[df_cleaned['win_percent'] != \"100\"]\n",
        "df_cleaned = df_cleaned[df_cleaned['win_percent'] != \"100.0\"]\n",
        "df_cleaned.info()"
      ],
      "metadata": {
        "colab": {
          "base_uri": "https://localhost:8080/"
        },
        "id": "_mN687t0mlch",
        "outputId": "c9dc5beb-51b5-44e9-aa87-63906ff61e48"
      },
      "execution_count": 132,
      "outputs": [
        {
          "output_type": "stream",
          "name": "stdout",
          "text": [
            "<class 'pandas.core.frame.DataFrame'>\n",
            "Int64Index: 41103 entries, 0 to 85677\n",
            "Data columns (total 16 columns):\n",
            " #   Column            Non-Null Count  Dtype  \n",
            "---  ------            --------------  -----  \n",
            " 0   name              41103 non-null  object \n",
            " 1   rating            41103 non-null  object \n",
            " 2   damage_round      41103 non-null  float64\n",
            " 3   headshots         41103 non-null  object \n",
            " 4   headshot_percent  41103 non-null  float64\n",
            " 5   aces              41103 non-null  int64  \n",
            " 6   clutches          41103 non-null  int64  \n",
            " 7   flawless          41103 non-null  int64  \n",
            " 8   first_bloods      41103 non-null  object \n",
            " 9   assists           41103 non-null  object \n",
            " 10  kd_ratio          41103 non-null  float64\n",
            " 11  kills_round       41103 non-null  float64\n",
            " 12  score_round       41103 non-null  float64\n",
            " 13  win_percent       41103 non-null  float64\n",
            " 14  agent_1           41103 non-null  object \n",
            " 15  gun1_name         41103 non-null  object \n",
            "dtypes: float64(6), int64(3), object(7)\n",
            "memory usage: 5.3+ MB\n"
          ]
        }
      ]
    },
    {
      "cell_type": "markdown",
      "source": [
        "Notamos também que existem algumas colunas que apresentam apenas números mas estão no formato errado, então fazemos a conversão. Também aproveitamos para remover jogadores que estão com porcentagem de vitória muito alta e baixa, pois provavelmente não estão nos elos/ranques adequados, ainda podem subir ou cair muito por estar com essa porcentagem."
      ],
      "metadata": {
        "id": "0Z9H7qUBnzHK"
      }
    },
    {
      "cell_type": "code",
      "source": [
        "df_cleaned['headshots'] = pd.to_numeric(df_cleaned['first_bloods'].str.replace(\",\",\".\"), errors=\"coerce\")\n",
        "df_cleaned['first_bloods'] = pd.to_numeric(df_cleaned['first_bloods'].str.replace(\",\",\".\"), errors=\"coerce\")\n",
        "df_cleaned['assists'] = pd.to_numeric(df_cleaned['assists'].str.replace(\",\",\".\"), errors=\"coerce\")\n",
        "df_cleaned = df_cleaned[df_cleaned['win_percent'] < 80]\n",
        "df_cleaned = df_cleaned[df_cleaned['win_percent'] > 40]\n",
        "df_cleaned.info()"
      ],
      "metadata": {
        "colab": {
          "base_uri": "https://localhost:8080/"
        },
        "id": "Lvhqw_LgnFUr",
        "outputId": "f59011b7-5262-45cc-96d2-5161aed29022"
      },
      "execution_count": 133,
      "outputs": [
        {
          "output_type": "stream",
          "name": "stdout",
          "text": [
            "<class 'pandas.core.frame.DataFrame'>\n",
            "Int64Index: 40727 entries, 0 to 85677\n",
            "Data columns (total 16 columns):\n",
            " #   Column            Non-Null Count  Dtype  \n",
            "---  ------            --------------  -----  \n",
            " 0   name              40727 non-null  object \n",
            " 1   rating            40727 non-null  object \n",
            " 2   damage_round      40727 non-null  float64\n",
            " 3   headshots         40727 non-null  float64\n",
            " 4   headshot_percent  40727 non-null  float64\n",
            " 5   aces              40727 non-null  int64  \n",
            " 6   clutches          40727 non-null  int64  \n",
            " 7   flawless          40727 non-null  int64  \n",
            " 8   first_bloods      40727 non-null  float64\n",
            " 9   assists           40727 non-null  float64\n",
            " 10  kd_ratio          40727 non-null  float64\n",
            " 11  kills_round       40727 non-null  float64\n",
            " 12  score_round       40727 non-null  float64\n",
            " 13  win_percent       40727 non-null  float64\n",
            " 14  agent_1           40727 non-null  object \n",
            " 15  gun1_name         40727 non-null  object \n",
            "dtypes: float64(9), int64(3), object(4)\n",
            "memory usage: 5.3+ MB\n"
          ]
        }
      ]
    },
    {
      "cell_type": "code",
      "source": [
        "df_cleaned['rating'].unique()"
      ],
      "metadata": {
        "colab": {
          "base_uri": "https://localhost:8080/"
        },
        "id": "FXR4DORqjIPn",
        "outputId": "49865a19-d737-49a6-849c-7c2771828b9a"
      },
      "execution_count": 134,
      "outputs": [
        {
          "output_type": "execute_result",
          "data": {
            "text/plain": [
              "array(['Radiant', 'Immortal 3', 'Immortal 2', 'Immortal 1', 'Diamond 3',\n",
              "       'Gold 1', 'Silver 2', 'Platinum 1', 'Gold 3', 'Gold 2', 'Silver 1',\n",
              "       'Platinum 2', 'Diamond 1', 'Silver 3', 'Bronze 3', 'Platinum 3'],\n",
              "      dtype=object)"
            ]
          },
          "metadata": {},
          "execution_count": 134
        }
      ]
    },
    {
      "cell_type": "markdown",
      "source": [
        "Identificamos também que temos certas divisões entre os elos que acaba sendo pouco relevante para estudo, visto que são bem pequenas as diferenças."
      ],
      "metadata": {
        "id": "AJJInmhnjynM"
      }
    },
    {
      "cell_type": "code",
      "source": [
        "df_cleaned['rating'] = df_cleaned['rating'].str.replace(r'Immortal 3', 'Radiant', regex=True)\n",
        "df_cleaned['rating'] = df_cleaned['rating'].str.replace(r'Immortal 1', 'Diamond -', regex=True)\n",
        "df_cleaned['rating'] = df_cleaned['rating'].str.replace(r'^Immortal.*', 'Immortal', regex=True)\n",
        "df_cleaned['rating'] = df_cleaned['rating'].str.replace(r'^Diamond.*', 'Diamond -', regex=True)\n",
        "df_cleaned['rating'] = df_cleaned['rating'].str.replace(r'^Platinum.*', 'Diamond -', regex=True)\n",
        "df_cleaned['rating'] = df_cleaned['rating'].str.replace(r'^Gold.*', 'Diamond -', regex=True)\n",
        "df_cleaned['rating'] = df_cleaned['rating'].str.replace(r'^Silver.*', 'Diamond -', regex=True)\n",
        "df_cleaned['rating'] = df_cleaned['rating'].str.replace(r'^Bronze.*', 'Diamond -', regex=True)\n",
        "\n",
        "df_cleaned['rating'].unique()"
      ],
      "metadata": {
        "colab": {
          "base_uri": "https://localhost:8080/"
        },
        "id": "Bpfs2CbnjaNP",
        "outputId": "48b17781-1ce3-46ae-9691-1b4b08a33cde"
      },
      "execution_count": 135,
      "outputs": [
        {
          "output_type": "execute_result",
          "data": {
            "text/plain": [
              "array(['Radiant', 'Immortal', 'Diamond -'], dtype=object)"
            ]
          },
          "metadata": {},
          "execution_count": 135
        }
      ]
    },
    {
      "cell_type": "markdown",
      "source": [
        "# Salvando dados limpos"
      ],
      "metadata": {
        "id": "jqjTPOcdoBEA"
      }
    },
    {
      "cell_type": "markdown",
      "source": [
        "Para salvar os dados limpos em um arquivo, vamos usar o método to_csv"
      ],
      "metadata": {
        "id": "xKowVOn2oCkn"
      }
    },
    {
      "cell_type": "code",
      "source": [
        "df_cleaned.to_csv('/content/drive/MyDrive/UP/Ciência de Dados/Notebooks/data/dataset_clean.csv', index=False, sep=';')"
      ],
      "metadata": {
        "id": "nJ-KfGOgoDoY"
      },
      "execution_count": 136,
      "outputs": []
    }
  ],
  "metadata": {
    "kernelspec": {
      "display_name": "Python 3.9.12",
      "language": "python",
      "name": "python3"
    },
    "language_info": {
      "name": "python",
      "version": "3.9.12"
    },
    "orig_nbformat": 4,
    "vscode": {
      "interpreter": {
        "hash": "bc2cefd0281c801cfecce64a6c6f045a8fc1e4c861b6297eb4e87b91b65006cb"
      }
    },
    "colab": {
      "provenance": []
    }
  },
  "nbformat": 4,
  "nbformat_minor": 0
}