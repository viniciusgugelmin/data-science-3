{
  "cells": [
    {
      "cell_type": "markdown",
      "metadata": {
        "id": "-Mk2VeMIqHEn"
      },
      "source": [
        "# Configuração de ambiente"
      ]
    },
    {
      "cell_type": "markdown",
      "metadata": {
        "id": "3G3KBwNqqHEq"
      },
      "source": [
        "Importação das bibliotecas:\n",
        "- Numpy: para manipulação de arrays\n",
        "- Pandas: para manipulação de dataframes\n",
        "- Matplotlib: para visualização de dados\n",
        "- Seaborn: para visualização de dados\n",
        "- Warnings: para poder alterar a visualização de warnings do sistema\n",
        "\n",
        "E dentre outras para o aprendizado supervisionado."
      ]
    },
    {
      "cell_type": "code",
      "execution_count": 66,
      "metadata": {
        "id": "vUXkB1KMqHEr"
      },
      "outputs": [],
      "source": [
        "import numpy as np\n",
        "import pandas as pd\n",
        "import plotly.express as px\n",
        "import plotly.graph_objects as go\n",
        "import matplotlib.pyplot as plt\n",
        "import seaborn as sns\n",
        "import warnings\n",
        "\n",
        "warnings.filterwarnings(\"ignore\", category=FutureWarning)\n",
        "\n",
        "sns.set()\n",
        "\n",
        "%matplotlib inline"
      ]
    },
    {
      "cell_type": "markdown",
      "source": [
        "# Leitura e visualização do dataset"
      ],
      "metadata": {
        "id": "G83cDA8gqopt"
      }
    },
    {
      "cell_type": "markdown",
      "source": [
        "Leitura do arquivo \"dataset_clean.csv\" através da função \"read_csv\" do Pandas e armazenamento do resultado na variável \"df\". Uso do parâmetro \"sep\" para informar qual o separador de colunas do arquivo e do parâmetro \"encoding\" para informar qual o tipo de codificação do arquivo."
      ],
      "metadata": {
        "id": "rD5l_obnqpsp"
      }
    },
    {
      "cell_type": "code",
      "source": [
        "csv_url = \"https://github.com/viniciusgugelmin/data-science-3/blob/main/projects/valorant_stats/data/dataset_clean.csv?raw=true\"\n",
        "\n",
        "df = pd.read_csv(csv_url, sep=';', low_memory=False)"
      ],
      "metadata": {
        "id": "g5QS9fOhqrYm"
      },
      "execution_count": 67,
      "outputs": []
    },
    {
      "cell_type": "markdown",
      "source": [
        "Exibição das 5 primeiras linhas do DataFrame através da função \"head\" do Pandas para verificar se o arquivo foi carregado corretamente e ter uma ideia do que ele contém."
      ],
      "metadata": {
        "id": "XLkxndARq2HV"
      }
    },
    {
      "cell_type": "code",
      "source": [
        "df.head()"
      ],
      "metadata": {
        "id": "XYYG1aZiq1NJ",
        "outputId": "378810d7-da99-42b4-98c5-dfadda8fc40f",
        "colab": {
          "base_uri": "https://localhost:8080/",
          "height": 206
        }
      },
      "execution_count": 68,
      "outputs": [
        {
          "output_type": "execute_result",
          "data": {
            "text/plain": [
              "            name   rating  damage_round  headshots  headshot_percent  aces  \\\n",
              "0       ShimmyXD  Radiant         135.8      161.0              24.9     0   \n",
              "1      XSET Cryo  Radiant         170.3      316.0              28.3     2   \n",
              "2  PuRelittleone  Radiant         147.5      216.0              24.0     3   \n",
              "3           Boba  Radiant         178.2      235.0              37.3     3   \n",
              "4    i love mina  Radiant         149.8      137.0              24.4     2   \n",
              "\n",
              "   clutches  flawless  first_bloods  assists  kd_ratio  kills_round  \\\n",
              "0       140        80         161.0    703.0      1.07          0.7   \n",
              "1       122        94         316.0    206.0      1.35          1.0   \n",
              "2       117        59         216.0    267.0      1.05          0.8   \n",
              "3        83        49         235.0    157.0      1.40          1.0   \n",
              "4        71        38         137.0    213.0      1.11          0.8   \n",
              "\n",
              "   score_round  win_percent  agent_1 gun1_name  \n",
              "0        208.8         59.6     Fade    Vandal  \n",
              "1        270.6         65.8  Chamber    Vandal  \n",
              "2        227.8         65.6     Yoru    Vandal  \n",
              "3        277.0         62.8     Jett    Vandal  \n",
              "4        230.9         62.8     Jett    Vandal  "
            ],
            "text/html": [
              "\n",
              "  <div id=\"df-e6dea96c-b693-43fc-b59c-829a96b12bcc\">\n",
              "    <div class=\"colab-df-container\">\n",
              "      <div>\n",
              "<style scoped>\n",
              "    .dataframe tbody tr th:only-of-type {\n",
              "        vertical-align: middle;\n",
              "    }\n",
              "\n",
              "    .dataframe tbody tr th {\n",
              "        vertical-align: top;\n",
              "    }\n",
              "\n",
              "    .dataframe thead th {\n",
              "        text-align: right;\n",
              "    }\n",
              "</style>\n",
              "<table border=\"1\" class=\"dataframe\">\n",
              "  <thead>\n",
              "    <tr style=\"text-align: right;\">\n",
              "      <th></th>\n",
              "      <th>name</th>\n",
              "      <th>rating</th>\n",
              "      <th>damage_round</th>\n",
              "      <th>headshots</th>\n",
              "      <th>headshot_percent</th>\n",
              "      <th>aces</th>\n",
              "      <th>clutches</th>\n",
              "      <th>flawless</th>\n",
              "      <th>first_bloods</th>\n",
              "      <th>assists</th>\n",
              "      <th>kd_ratio</th>\n",
              "      <th>kills_round</th>\n",
              "      <th>score_round</th>\n",
              "      <th>win_percent</th>\n",
              "      <th>agent_1</th>\n",
              "      <th>gun1_name</th>\n",
              "    </tr>\n",
              "  </thead>\n",
              "  <tbody>\n",
              "    <tr>\n",
              "      <th>0</th>\n",
              "      <td>ShimmyXD</td>\n",
              "      <td>Radiant</td>\n",
              "      <td>135.8</td>\n",
              "      <td>161.0</td>\n",
              "      <td>24.9</td>\n",
              "      <td>0</td>\n",
              "      <td>140</td>\n",
              "      <td>80</td>\n",
              "      <td>161.0</td>\n",
              "      <td>703.0</td>\n",
              "      <td>1.07</td>\n",
              "      <td>0.7</td>\n",
              "      <td>208.8</td>\n",
              "      <td>59.6</td>\n",
              "      <td>Fade</td>\n",
              "      <td>Vandal</td>\n",
              "    </tr>\n",
              "    <tr>\n",
              "      <th>1</th>\n",
              "      <td>XSET Cryo</td>\n",
              "      <td>Radiant</td>\n",
              "      <td>170.3</td>\n",
              "      <td>316.0</td>\n",
              "      <td>28.3</td>\n",
              "      <td>2</td>\n",
              "      <td>122</td>\n",
              "      <td>94</td>\n",
              "      <td>316.0</td>\n",
              "      <td>206.0</td>\n",
              "      <td>1.35</td>\n",
              "      <td>1.0</td>\n",
              "      <td>270.6</td>\n",
              "      <td>65.8</td>\n",
              "      <td>Chamber</td>\n",
              "      <td>Vandal</td>\n",
              "    </tr>\n",
              "    <tr>\n",
              "      <th>2</th>\n",
              "      <td>PuRelittleone</td>\n",
              "      <td>Radiant</td>\n",
              "      <td>147.5</td>\n",
              "      <td>216.0</td>\n",
              "      <td>24.0</td>\n",
              "      <td>3</td>\n",
              "      <td>117</td>\n",
              "      <td>59</td>\n",
              "      <td>216.0</td>\n",
              "      <td>267.0</td>\n",
              "      <td>1.05</td>\n",
              "      <td>0.8</td>\n",
              "      <td>227.8</td>\n",
              "      <td>65.6</td>\n",
              "      <td>Yoru</td>\n",
              "      <td>Vandal</td>\n",
              "    </tr>\n",
              "    <tr>\n",
              "      <th>3</th>\n",
              "      <td>Boba</td>\n",
              "      <td>Radiant</td>\n",
              "      <td>178.2</td>\n",
              "      <td>235.0</td>\n",
              "      <td>37.3</td>\n",
              "      <td>3</td>\n",
              "      <td>83</td>\n",
              "      <td>49</td>\n",
              "      <td>235.0</td>\n",
              "      <td>157.0</td>\n",
              "      <td>1.40</td>\n",
              "      <td>1.0</td>\n",
              "      <td>277.0</td>\n",
              "      <td>62.8</td>\n",
              "      <td>Jett</td>\n",
              "      <td>Vandal</td>\n",
              "    </tr>\n",
              "    <tr>\n",
              "      <th>4</th>\n",
              "      <td>i love mina</td>\n",
              "      <td>Radiant</td>\n",
              "      <td>149.8</td>\n",
              "      <td>137.0</td>\n",
              "      <td>24.4</td>\n",
              "      <td>2</td>\n",
              "      <td>71</td>\n",
              "      <td>38</td>\n",
              "      <td>137.0</td>\n",
              "      <td>213.0</td>\n",
              "      <td>1.11</td>\n",
              "      <td>0.8</td>\n",
              "      <td>230.9</td>\n",
              "      <td>62.8</td>\n",
              "      <td>Jett</td>\n",
              "      <td>Vandal</td>\n",
              "    </tr>\n",
              "  </tbody>\n",
              "</table>\n",
              "</div>\n",
              "      <button class=\"colab-df-convert\" onclick=\"convertToInteractive('df-e6dea96c-b693-43fc-b59c-829a96b12bcc')\"\n",
              "              title=\"Convert this dataframe to an interactive table.\"\n",
              "              style=\"display:none;\">\n",
              "        \n",
              "  <svg xmlns=\"http://www.w3.org/2000/svg\" height=\"24px\"viewBox=\"0 0 24 24\"\n",
              "       width=\"24px\">\n",
              "    <path d=\"M0 0h24v24H0V0z\" fill=\"none\"/>\n",
              "    <path d=\"M18.56 5.44l.94 2.06.94-2.06 2.06-.94-2.06-.94-.94-2.06-.94 2.06-2.06.94zm-11 1L8.5 8.5l.94-2.06 2.06-.94-2.06-.94L8.5 2.5l-.94 2.06-2.06.94zm10 10l.94 2.06.94-2.06 2.06-.94-2.06-.94-.94-2.06-.94 2.06-2.06.94z\"/><path d=\"M17.41 7.96l-1.37-1.37c-.4-.4-.92-.59-1.43-.59-.52 0-1.04.2-1.43.59L10.3 9.45l-7.72 7.72c-.78.78-.78 2.05 0 2.83L4 21.41c.39.39.9.59 1.41.59.51 0 1.02-.2 1.41-.59l7.78-7.78 2.81-2.81c.8-.78.8-2.07 0-2.86zM5.41 20L4 18.59l7.72-7.72 1.47 1.35L5.41 20z\"/>\n",
              "  </svg>\n",
              "      </button>\n",
              "      \n",
              "  <style>\n",
              "    .colab-df-container {\n",
              "      display:flex;\n",
              "      flex-wrap:wrap;\n",
              "      gap: 12px;\n",
              "    }\n",
              "\n",
              "    .colab-df-convert {\n",
              "      background-color: #E8F0FE;\n",
              "      border: none;\n",
              "      border-radius: 50%;\n",
              "      cursor: pointer;\n",
              "      display: none;\n",
              "      fill: #1967D2;\n",
              "      height: 32px;\n",
              "      padding: 0 0 0 0;\n",
              "      width: 32px;\n",
              "    }\n",
              "\n",
              "    .colab-df-convert:hover {\n",
              "      background-color: #E2EBFA;\n",
              "      box-shadow: 0px 1px 2px rgba(60, 64, 67, 0.3), 0px 1px 3px 1px rgba(60, 64, 67, 0.15);\n",
              "      fill: #174EA6;\n",
              "    }\n",
              "\n",
              "    [theme=dark] .colab-df-convert {\n",
              "      background-color: #3B4455;\n",
              "      fill: #D2E3FC;\n",
              "    }\n",
              "\n",
              "    [theme=dark] .colab-df-convert:hover {\n",
              "      background-color: #434B5C;\n",
              "      box-shadow: 0px 1px 3px 1px rgba(0, 0, 0, 0.15);\n",
              "      filter: drop-shadow(0px 1px 2px rgba(0, 0, 0, 0.3));\n",
              "      fill: #FFFFFF;\n",
              "    }\n",
              "  </style>\n",
              "\n",
              "      <script>\n",
              "        const buttonEl =\n",
              "          document.querySelector('#df-e6dea96c-b693-43fc-b59c-829a96b12bcc button.colab-df-convert');\n",
              "        buttonEl.style.display =\n",
              "          google.colab.kernel.accessAllowed ? 'block' : 'none';\n",
              "\n",
              "        async function convertToInteractive(key) {\n",
              "          const element = document.querySelector('#df-e6dea96c-b693-43fc-b59c-829a96b12bcc');\n",
              "          const dataTable =\n",
              "            await google.colab.kernel.invokeFunction('convertToInteractive',\n",
              "                                                     [key], {});\n",
              "          if (!dataTable) return;\n",
              "\n",
              "          const docLinkHtml = 'Like what you see? Visit the ' +\n",
              "            '<a target=\"_blank\" href=https://colab.research.google.com/notebooks/data_table.ipynb>data table notebook</a>'\n",
              "            + ' to learn more about interactive tables.';\n",
              "          element.innerHTML = '';\n",
              "          dataTable['output_type'] = 'display_data';\n",
              "          await google.colab.output.renderOutput(dataTable, element);\n",
              "          const docLink = document.createElement('div');\n",
              "          docLink.innerHTML = docLinkHtml;\n",
              "          element.appendChild(docLink);\n",
              "        }\n",
              "      </script>\n",
              "    </div>\n",
              "  </div>\n",
              "  "
            ]
          },
          "metadata": {},
          "execution_count": 68
        }
      ]
    },
    {
      "cell_type": "markdown",
      "source": [
        "# Explicação sobre o trabalho a ser realizado"
      ],
      "metadata": {
        "id": "ibO8ABOpq_Vl"
      }
    },
    {
      "cell_type": "markdown",
      "source": [
        "O dataset escolhido tem como base informações sobre como os melhores jogadores de Valorant do Episódio 4, Ato 3, se saíram dentro nos seus jogos. \n",
        "\n",
        "As colunas a serem trabalhadas contém informações sobre o nome dentro do jogo, elo/rank, dano por rodada, eliminações com tiro na cabeça, percentual de eliminações com tiro na cabeça, rodadas em que eliminou todos sozinho, rodadas em que ficou sozinho e ganhou, em que todos do time eliminaram alguém, rodadas em que foi o primeiro a eliminar, assistência em eliminações, percentual de eliminações e mortes, pontuação por rodada, percentual de vitória, melhor agente e melhor arma.\n",
        "\n",
        "O intuito deste estudo é extrairmos algumas informações dessa base de dados, inserirmos alguns gráficos e realizarmos um aprendizado de máquina para conseguirmos prever o elo/ranque de um jogador só com base em seus resultados dentro do jogo."
      ],
      "metadata": {
        "id": "Sur8QRaDrDG8"
      }
    },
    {
      "cell_type": "markdown",
      "source": [
        "# Perguntas iniciais"
      ],
      "metadata": {
        "id": "8vgCDEx-vg1u"
      }
    },
    {
      "cell_type": "markdown",
      "source": [
        "- Qual o jogador com maior percentual de vitórias e o com o menor?"
      ],
      "metadata": {
        "id": "X7kSld99vh5S"
      }
    },
    {
      "cell_type": "code",
      "source": [
        "def printWinOrder(_df, str):\n",
        "  print('Jogador com', str, 'percentual de vitórias:', _df['name'][0], '\\nPercentual:', _df['win_percent'][0], '\\nElo:', _df['rating'][0])\n",
        "\n",
        "df_win_order = df.copy()\n",
        "\n",
        "df_win_order = df_win_order.sort_values('win_percent', ascending=False).reset_index().drop('index', axis=1)\n",
        "printWinOrder(df_win_order, 'maior')\n",
        "\n",
        "print('')\n",
        "\n",
        "df_win_order = df_win_order.sort_values('win_percent', ascending=True).reset_index().drop('index', axis=1)\n",
        "printWinOrder(df_win_order, 'menor')"
      ],
      "metadata": {
        "id": "zGghteXfvsFu",
        "outputId": "4706b762-7b6a-4b4c-fdcc-9b22ec0d668d",
        "colab": {
          "base_uri": "https://localhost:8080/"
        }
      },
      "execution_count": 69,
      "outputs": [
        {
          "output_type": "stream",
          "name": "stdout",
          "text": [
            "Jogador com maior percentual de vitórias: L DANCE 69 \n",
            "Percentual: 79.7 \n",
            "Elo: Radiant\n",
            "\n",
            "Jogador com menor percentual de vitórias: prg \n",
            "Percentual: 40.2 \n",
            "Elo: Diamond -\n"
          ]
        }
      ]
    },
    {
      "cell_type": "markdown",
      "source": [
        "- Qual o jogador com mais aces e o com o menor?"
      ],
      "metadata": {
        "id": "M0QQ8FMOpWRr"
      }
    },
    {
      "cell_type": "code",
      "source": [
        "def printAcesOrder(_df, str):\n",
        "  print('Jogador com', str, 'aces:', _df['name'][0], '\\nAces:', _df['aces'][0], '\\nElo:', _df['rating'][0])\n",
        "\n",
        "df_aces_order = df.copy()\n",
        "\n",
        "df_aces_order = df_aces_order.sort_values('aces', ascending=False).reset_index().drop('index', axis=1)\n",
        "printAcesOrder(df_aces_order, 'mais')\n",
        "\n",
        "print('')\n",
        "\n",
        "df_aces_order = df_aces_order.sort_values('aces', ascending=True).reset_index().drop('index', axis=1)\n",
        "printAcesOrder(df_aces_order, 'menos')"
      ],
      "metadata": {
        "id": "yUSi4qpEpUF4",
        "outputId": "9a3bf018-0a77-4818-8a71-89f3665a2791",
        "colab": {
          "base_uri": "https://localhost:8080/"
        }
      },
      "execution_count": 70,
      "outputs": [
        {
          "output_type": "stream",
          "name": "stdout",
          "text": [
            "Jogador com mais aces: Tronix \n",
            "Aces: 24 \n",
            "Elo: Immortal\n",
            "\n",
            "Jogador com menos aces: ShimmyXD \n",
            "Aces: 0 \n",
            "Elo: Radiant\n"
          ]
        }
      ]
    },
    {
      "cell_type": "markdown",
      "source": [
        "- Quantos jogadores temos de cada elo?"
      ],
      "metadata": {
        "id": "Msl_Cnk7pulJ"
      }
    },
    {
      "cell_type": "code",
      "source": [
        "def printRankingCount(elo):\n",
        "  _total = len(df[df['rating'] == elo])\n",
        "  print('Elo:', elo, '\\nTotal:', _total, end='\\n\\n')\n",
        "  return _total\n",
        "\n",
        "radiantTotal = printRankingCount('Radiant')\n",
        "immortalTotal = printRankingCount('Immortal')\n",
        "diamondTotal = printRankingCount('Diamond -')"
      ],
      "metadata": {
        "id": "tP6gkmuTpuJP",
        "outputId": "746dfac4-50a5-4e80-e5fe-8491c95077d9",
        "colab": {
          "base_uri": "https://localhost:8080/"
        }
      },
      "execution_count": 71,
      "outputs": [
        {
          "output_type": "stream",
          "name": "stdout",
          "text": [
            "Elo: Radiant \n",
            "Total: 11225\n",
            "\n",
            "Elo: Immortal \n",
            "Total: 11703\n",
            "\n",
            "Elo: Diamond - \n",
            "Total: 17799\n",
            "\n"
          ]
        }
      ]
    },
    {
      "cell_type": "markdown",
      "source": [
        "- Qual é o total de jogadores que tem cada agente como preferido?"
      ],
      "metadata": {
        "id": "QZTucjt3s7E7"
      }
    },
    {
      "cell_type": "code",
      "source": [
        "def printAgentCount(agent):\n",
        "  _total = len(df[df['agent_1'] == agent])\n",
        "  print('Agente:', agent, '\\nTotal:', _total, end='\\n\\n')\n",
        "  return _total\n",
        "\n",
        "agentsTotal = []\n",
        "\n",
        "for agent in df['agent_1'].unique():\n",
        "  agentsTotal.append(printAgentCount(agent))"
      ],
      "metadata": {
        "id": "l2RsRE6RtEOX",
        "outputId": "79dbf905-b298-41ce-96dc-79c49b5577ea",
        "colab": {
          "base_uri": "https://localhost:8080/"
        }
      },
      "execution_count": 79,
      "outputs": [
        {
          "output_type": "stream",
          "name": "stdout",
          "text": [
            "Agente: Fade \n",
            "Total: 3617\n",
            "\n",
            "Agente: Chamber \n",
            "Total: 9885\n",
            "\n",
            "Agente: Yoru \n",
            "Total: 293\n",
            "\n",
            "Agente: Jett \n",
            "Total: 6308\n",
            "\n",
            "Agente: Sage \n",
            "Total: 1952\n",
            "\n",
            "Agente: KAY/O \n",
            "Total: 725\n",
            "\n",
            "Agente: Sova \n",
            "Total: 2413\n",
            "\n",
            "Agente: Raze \n",
            "Total: 2942\n",
            "\n",
            "Agente: Omen \n",
            "Total: 2554\n",
            "\n",
            "Agente: Breach \n",
            "Total: 213\n",
            "\n",
            "Agente: Reyna \n",
            "Total: 5204\n",
            "\n",
            "Agente: Neon \n",
            "Total: 475\n",
            "\n",
            "Agente: Skye \n",
            "Total: 649\n",
            "\n",
            "Agente: Brimstone \n",
            "Total: 1389\n",
            "\n",
            "Agente: Phoenix \n",
            "Total: 44\n",
            "\n",
            "Agente: Viper \n",
            "Total: 1466\n",
            "\n",
            "Agente: Astra \n",
            "Total: 208\n",
            "\n",
            "Agente: Killjoy \n",
            "Total: 234\n",
            "\n",
            "Agente: Cypher \n",
            "Total: 156\n",
            "\n"
          ]
        }
      ]
    },
    {
      "cell_type": "markdown",
      "source": [
        "# Visualização dos dados"
      ],
      "metadata": {
        "id": "ZZQlgeT7uiR2"
      }
    },
    {
      "cell_type": "markdown",
      "source": [
        "O gráfico abaixo mostra a distribuição de preferência de jogadores por agente através do barplot do seaborn."
      ],
      "metadata": {
        "id": "6pwF-qyrzxnf"
      }
    },
    {
      "cell_type": "code",
      "source": [
        "sns.barplot(x=df['agent_1'].unique(), y=agentsTotal, palette=\"bright\").set(title='Distribuição de agentes por preferência de jogadores')"
      ],
      "metadata": {
        "id": "_7MG3FjDujlD",
        "outputId": "61065929-b1fd-419d-b9f9-63373c69eea6",
        "colab": {
          "base_uri": "https://localhost:8080/",
          "height": 301
        }
      },
      "execution_count": 97,
      "outputs": [
        {
          "output_type": "execute_result",
          "data": {
            "text/plain": [
              "[Text(0.5, 1.0, 'Distribuição de agentes por preferência de jogadores')]"
            ]
          },
          "metadata": {},
          "execution_count": 97
        },
        {
          "output_type": "display_data",
          "data": {
            "text/plain": [
              "<Figure size 432x288 with 1 Axes>"
            ],
            "image/png": "[encoded data removed]"
          },
          "metadata": {
            "needs_background": "light"
          }
        }
      ]
    },
    {
      "cell_type": "markdown",
      "source": [
        "Através do histplot do seaborn conseguimos visualizar o percentual de jogadores por elo."
      ],
      "metadata": {
        "id": "BnBMrYh7z62J"
      }
    },
    {
      "cell_type": "code",
      "source": [
        "sns.histplot(data=df, x=\"rating\", hue=\"rating\", stat=\"percent\", palette=\"bright\").set(title='Pecentual de de jogadores por elo')"
      ],
      "metadata": {
        "id": "pV9UCKPWz77M",
        "outputId": "b694f441-4d6a-462a-e178-061d24b7eff0",
        "colab": {
          "base_uri": "https://localhost:8080/",
          "height": 318
        }
      },
      "execution_count": 99,
      "outputs": [
        {
          "output_type": "execute_result",
          "data": {
            "text/plain": [
              "[Text(0.5, 1.0, 'Pecentual de de jogadores por elo')]"
            ]
          },
          "metadata": {},
          "execution_count": 99
        },
        {
          "output_type": "display_data",
          "data": {
            "text/plain": [
              "<Figure size 432x288 with 1 Axes>"
            ],
            "image/png": "[encoded data removed]"
          },
          "metadata": {
            "needs_background": "light"
          }
        }
      ]
    },
    {
      "cell_type": "markdown",
      "source": [
        "# Correlação "
      ],
      "metadata": {
        "id": "nZ9LJldR1K-U"
      }
    },
    {
      "cell_type": "markdown",
      "source": [
        "Não entrava muito no intuito da pesquisa, mas acredito que seja viável realizar uma verificação de correlação dos dados da tabela para também conseguirmos compreender como funciona cada propriedade e também ver qual pode influenciar em qual."
      ],
      "metadata": {
        "id": "1_EZrgFk1uaI"
      }
    },
    {
      "cell_type": "code",
      "source": [
        "corr = df.corr()\n",
        "cmap = sns.diverging_palette(230, 20, as_cmap=True)\n",
        "sns.heatmap(df.corr(),cmap=cmap, annot=True);"
      ],
      "metadata": {
        "id": "mkAHSAq91Wqc",
        "outputId": "0b10e697-3d73-4f3b-bed7-653539570bfc",
        "colab": {
          "base_uri": "https://localhost:8080/",
          "height": 361
        }
      },
      "execution_count": 101,
      "outputs": [
        {
          "output_type": "display_data",
          "data": {
            "text/plain": [
              "<Figure size 432x288 with 2 Axes>"
            ],
            "image/png": "[encoded data removed]"
          },
          "metadata": {
            "needs_background": "light"
          }
        }
      ]
    },
    {
      "cell_type": "markdown",
      "source": [
        "Esse gráfico de calor ajuda bastante para quem já compreende como o jogo funciona, e é interessante analisar que a quantidade de dano por rodada influencia fortemente na pontuação durante a rodada, algo que muitos jogadores não devem saber, e talvez ajudaria a subir de elo mais rapidamente."
      ],
      "metadata": {
        "id": "NPlyljvk1_p6"
      }
    }
  ],
  "metadata": {
    "kernelspec": {
      "display_name": "Python 3.9.12",
      "language": "python",
      "name": "python3"
    },
    "language_info": {
      "name": "python",
      "version": "3.9.12"
    },
    "orig_nbformat": 4,
    "vscode": {
      "interpreter": {
        "hash": "bc2cefd0281c801cfecce64a6c6f045a8fc1e4c861b6297eb4e87b91b65006cb"
      }
    },
    "colab": {
      "provenance": []
    }
  },
  "nbformat": 4,
  "nbformat_minor": 0
}