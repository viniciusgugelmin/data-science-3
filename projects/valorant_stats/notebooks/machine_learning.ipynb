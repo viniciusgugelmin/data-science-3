{
 "cells": [
  {
   "cell_type": "markdown",
   "metadata": {},
   "source": [
    "# Configuração de ambiente"
   ]
  },
  {
   "cell_type": "markdown",
   "metadata": {},
   "source": [
    "Importação das bibliotecas:\n",
    "- Numpy: para manipulação de arrays\n",
    "- Pandas: para manipulação de dataframes\n",
    "- Matplotlib: para visualização de dados\n",
    "- Seaborn: para visualização de dados\n",
    "\n",
    "E dentre outras para o aprendizado supervisionado."
   ]
  },
  {
   "cell_type": "code",
   "execution_count": null,
   "metadata": {},
   "outputs": [],
   "source": [
    "import numpy as np\n",
    "import pandas as pd\n",
    "import plotly.express as px\n",
    "import plotly.graph_objects as go\n",
    "import matplotlib.pyplot as plt\n",
    "import seaborn as sns"
   ]
  }
 ],
 "metadata": {
  "kernelspec": {
   "display_name": "Python 3.9.12",
   "language": "python",
   "name": "python3"
  },
  "language_info": {
   "name": "python",
   "version": "3.9.12"
  },
  "orig_nbformat": 4,
  "vscode": {
   "interpreter": {
    "hash": "bc2cefd0281c801cfecce64a6c6f045a8fc1e4c861b6297eb4e87b91b65006cb"
   }
  }
 },
 "nbformat": 4,
 "nbformat_minor": 2
}
