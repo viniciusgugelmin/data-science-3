{
  "cells": [
    {
      "cell_type": "markdown",
      "metadata": {
        "id": "-Mk2VeMIqHEn"
      },
      "source": [
        "# Configuração de ambiente"
      ]
    },
    {
      "cell_type": "markdown",
      "metadata": {
        "id": "3G3KBwNqqHEq"
      },
      "source": [
        "Importação das bibliotecas:\n",
        "- Numpy: para manipulação de arrays\n",
        "- Pandas: para manipulação de dataframes\n",
        "- Matplotlib: para visualização de dados\n",
        "- Seaborn: para visualização de dados\n",
        "- Warnings: para poder alterar a visualização de warnings do sistema\n",
        "\n",
        "E dentre outras para o aprendizado supervisionado."
      ]
    },
    {
      "cell_type": "code",
      "execution_count": 209,
      "metadata": {
        "id": "vUXkB1KMqHEr"
      },
      "outputs": [],
      "source": [
        "import numpy as np\n",
        "import pandas as pd\n",
        "import plotly.express as px\n",
        "import plotly.graph_objects as go\n",
        "import matplotlib.pyplot as plt\n",
        "import seaborn as sns\n",
        "import warnings\n",
        "\n",
        "warnings.filterwarnings(\"ignore\", category=FutureWarning)\n",
        "\n",
        "sns.set()\n",
        "\n",
        "%matplotlib inline\n",
        "\n",
        "from scipy.cluster.hierarchy import dendrogram, linkage\n",
        "from sklearn.preprocessing import LabelEncoder\n",
        "from sklearn.decomposition import PCA\n",
        "from sklearn.preprocessing import StandardScaler\n",
        "from sklearn.cluster import AgglomerativeClustering"
      ]
    },
    {
      "cell_type": "markdown",
      "source": [
        "# Leitura e visualização do dataset"
      ],
      "metadata": {
        "id": "G83cDA8gqopt"
      }
    },
    {
      "cell_type": "markdown",
      "source": [
        "Leitura do arquivo \"dataset_clean.csv\" através da função \"read_csv\" do Pandas e armazenamento do resultado na variável \"df\". Uso do parâmetro \"sep\" para informar qual o separador de colunas do arquivo e do parâmetro \"encoding\" para informar qual o tipo de codificação do arquivo."
      ],
      "metadata": {
        "id": "rD5l_obnqpsp"
      }
    },
    {
      "cell_type": "code",
      "source": [
        "csv_url = \"https://github.com/viniciusgugelmin/data-science-3/blob/main/projects/valorant_stats/data/dataset_clean.csv?raw=true\"\n",
        "\n",
        "df = pd.read_csv(csv_url, sep=';', low_memory=False)"
      ],
      "metadata": {
        "id": "g5QS9fOhqrYm"
      },
      "execution_count": 210,
      "outputs": []
    },
    {
      "cell_type": "markdown",
      "source": [
        "Exibição das 5 primeiras linhas do DataFrame através da função \"head\" do Pandas para verificar se o arquivo foi carregado corretamente e ter uma ideia do que ele contém. Já realizamos também uma ordenação pelo elo dos jogadores."
      ],
      "metadata": {
        "id": "XLkxndARq2HV"
      }
    },
    {
      "cell_type": "code",
      "source": [
        "df = df.sort_values('rating', ascending=False).reset_index().drop('index', axis=1)\n",
        "df.head()"
      ],
      "metadata": {
        "id": "XYYG1aZiq1NJ",
        "outputId": "84caedc7-45d3-4ce0-f32f-07c75612a2cf",
        "colab": {
          "base_uri": "https://localhost:8080/",
          "height": 206
        }
      },
      "execution_count": 211,
      "outputs": [
        {
          "output_type": "execute_result",
          "data": {
            "text/plain": [
              "         name   rating  damage_round  headshots  headshot_percent  aces  \\\n",
              "0    ShimmyXD  Radiant         135.8      161.0              24.9     0   \n",
              "1    ryanchan  Radiant         130.1       47.0              28.2     1   \n",
              "2       SHREK  Radiant         141.7      114.0              21.6     2   \n",
              "3  Dimislavos  Radiant         120.5       51.0              23.5     0   \n",
              "4   AVN RaksO  Radiant         143.3      214.0              24.0     2   \n",
              "\n",
              "   clutches  flawless  first_bloods  assists  kd_ratio  kills_round  \\\n",
              "0       140        80         161.0    703.0      1.07          0.7   \n",
              "1        51        41          47.0    365.0      1.01          0.7   \n",
              "2        93        44         114.0    281.0      1.05          0.8   \n",
              "3        62        39          51.0    254.0      0.92          0.6   \n",
              "4       129        74         214.0    454.0      1.05          0.8   \n",
              "\n",
              "   score_round  win_percent  agent_1 gun1_name  \n",
              "0        208.8         59.6     Fade    Vandal  \n",
              "1        196.0         54.4     Sova   Phantom  \n",
              "2        218.0         53.7     Neon    Vandal  \n",
              "3        185.8         59.5     Omen    Vandal  \n",
              "4        216.5         52.1  Killjoy   Phantom  "
            ],
            "text/html": [
              "\n",
              "  <div id=\"df-13df85f6-ba90-4170-96a9-9671f8938aa8\">\n",
              "    <div class=\"colab-df-container\">\n",
              "      <div>\n",
              "<style scoped>\n",
              "    .dataframe tbody tr th:only-of-type {\n",
              "        vertical-align: middle;\n",
              "    }\n",
              "\n",
              "    .dataframe tbody tr th {\n",
              "        vertical-align: top;\n",
              "    }\n",
              "\n",
              "    .dataframe thead th {\n",
              "        text-align: right;\n",
              "    }\n",
              "</style>\n",
              "<table border=\"1\" class=\"dataframe\">\n",
              "  <thead>\n",
              "    <tr style=\"text-align: right;\">\n",
              "      <th></th>\n",
              "      <th>name</th>\n",
              "      <th>rating</th>\n",
              "      <th>damage_round</th>\n",
              "      <th>headshots</th>\n",
              "      <th>headshot_percent</th>\n",
              "      <th>aces</th>\n",
              "      <th>clutches</th>\n",
              "      <th>flawless</th>\n",
              "      <th>first_bloods</th>\n",
              "      <th>assists</th>\n",
              "      <th>kd_ratio</th>\n",
              "      <th>kills_round</th>\n",
              "      <th>score_round</th>\n",
              "      <th>win_percent</th>\n",
              "      <th>agent_1</th>\n",
              "      <th>gun1_name</th>\n",
              "    </tr>\n",
              "  </thead>\n",
              "  <tbody>\n",
              "    <tr>\n",
              "      <th>0</th>\n",
              "      <td>ShimmyXD</td>\n",
              "      <td>Radiant</td>\n",
              "      <td>135.8</td>\n",
              "      <td>161.0</td>\n",
              "      <td>24.9</td>\n",
              "      <td>0</td>\n",
              "      <td>140</td>\n",
              "      <td>80</td>\n",
              "      <td>161.0</td>\n",
              "      <td>703.0</td>\n",
              "      <td>1.07</td>\n",
              "      <td>0.7</td>\n",
              "      <td>208.8</td>\n",
              "      <td>59.6</td>\n",
              "      <td>Fade</td>\n",
              "      <td>Vandal</td>\n",
              "    </tr>\n",
              "    <tr>\n",
              "      <th>1</th>\n",
              "      <td>ryanchan</td>\n",
              "      <td>Radiant</td>\n",
              "      <td>130.1</td>\n",
              "      <td>47.0</td>\n",
              "      <td>28.2</td>\n",
              "      <td>1</td>\n",
              "      <td>51</td>\n",
              "      <td>41</td>\n",
              "      <td>47.0</td>\n",
              "      <td>365.0</td>\n",
              "      <td>1.01</td>\n",
              "      <td>0.7</td>\n",
              "      <td>196.0</td>\n",
              "      <td>54.4</td>\n",
              "      <td>Sova</td>\n",
              "      <td>Phantom</td>\n",
              "    </tr>\n",
              "    <tr>\n",
              "      <th>2</th>\n",
              "      <td>SHREK</td>\n",
              "      <td>Radiant</td>\n",
              "      <td>141.7</td>\n",
              "      <td>114.0</td>\n",
              "      <td>21.6</td>\n",
              "      <td>2</td>\n",
              "      <td>93</td>\n",
              "      <td>44</td>\n",
              "      <td>114.0</td>\n",
              "      <td>281.0</td>\n",
              "      <td>1.05</td>\n",
              "      <td>0.8</td>\n",
              "      <td>218.0</td>\n",
              "      <td>53.7</td>\n",
              "      <td>Neon</td>\n",
              "      <td>Vandal</td>\n",
              "    </tr>\n",
              "    <tr>\n",
              "      <th>3</th>\n",
              "      <td>Dimislavos</td>\n",
              "      <td>Radiant</td>\n",
              "      <td>120.5</td>\n",
              "      <td>51.0</td>\n",
              "      <td>23.5</td>\n",
              "      <td>0</td>\n",
              "      <td>62</td>\n",
              "      <td>39</td>\n",
              "      <td>51.0</td>\n",
              "      <td>254.0</td>\n",
              "      <td>0.92</td>\n",
              "      <td>0.6</td>\n",
              "      <td>185.8</td>\n",
              "      <td>59.5</td>\n",
              "      <td>Omen</td>\n",
              "      <td>Vandal</td>\n",
              "    </tr>\n",
              "    <tr>\n",
              "      <th>4</th>\n",
              "      <td>AVN RaksO</td>\n",
              "      <td>Radiant</td>\n",
              "      <td>143.3</td>\n",
              "      <td>214.0</td>\n",
              "      <td>24.0</td>\n",
              "      <td>2</td>\n",
              "      <td>129</td>\n",
              "      <td>74</td>\n",
              "      <td>214.0</td>\n",
              "      <td>454.0</td>\n",
              "      <td>1.05</td>\n",
              "      <td>0.8</td>\n",
              "      <td>216.5</td>\n",
              "      <td>52.1</td>\n",
              "      <td>Killjoy</td>\n",
              "      <td>Phantom</td>\n",
              "    </tr>\n",
              "  </tbody>\n",
              "</table>\n",
              "</div>\n",
              "      <button class=\"colab-df-convert\" onclick=\"convertToInteractive('df-13df85f6-ba90-4170-96a9-9671f8938aa8')\"\n",
              "              title=\"Convert this dataframe to an interactive table.\"\n",
              "              style=\"display:none;\">\n",
              "        \n",
              "  <svg xmlns=\"http://www.w3.org/2000/svg\" height=\"24px\"viewBox=\"0 0 24 24\"\n",
              "       width=\"24px\">\n",
              "    <path d=\"M0 0h24v24H0V0z\" fill=\"none\"/>\n",
              "    <path d=\"M18.56 5.44l.94 2.06.94-2.06 2.06-.94-2.06-.94-.94-2.06-.94 2.06-2.06.94zm-11 1L8.5 8.5l.94-2.06 2.06-.94-2.06-.94L8.5 2.5l-.94 2.06-2.06.94zm10 10l.94 2.06.94-2.06 2.06-.94-2.06-.94-.94-2.06-.94 2.06-2.06.94z\"/><path d=\"M17.41 7.96l-1.37-1.37c-.4-.4-.92-.59-1.43-.59-.52 0-1.04.2-1.43.59L10.3 9.45l-7.72 7.72c-.78.78-.78 2.05 0 2.83L4 21.41c.39.39.9.59 1.41.59.51 0 1.02-.2 1.41-.59l7.78-7.78 2.81-2.81c.8-.78.8-2.07 0-2.86zM5.41 20L4 18.59l7.72-7.72 1.47 1.35L5.41 20z\"/>\n",
              "  </svg>\n",
              "      </button>\n",
              "      \n",
              "  <style>\n",
              "    .colab-df-container {\n",
              "      display:flex;\n",
              "      flex-wrap:wrap;\n",
              "      gap: 12px;\n",
              "    }\n",
              "\n",
              "    .colab-df-convert {\n",
              "      background-color: #E8F0FE;\n",
              "      border: none;\n",
              "      border-radius: 50%;\n",
              "      cursor: pointer;\n",
              "      display: none;\n",
              "      fill: #1967D2;\n",
              "      height: 32px;\n",
              "      padding: 0 0 0 0;\n",
              "      width: 32px;\n",
              "    }\n",
              "\n",
              "    .colab-df-convert:hover {\n",
              "      background-color: #E2EBFA;\n",
              "      box-shadow: 0px 1px 2px rgba(60, 64, 67, 0.3), 0px 1px 3px 1px rgba(60, 64, 67, 0.15);\n",
              "      fill: #174EA6;\n",
              "    }\n",
              "\n",
              "    [theme=dark] .colab-df-convert {\n",
              "      background-color: #3B4455;\n",
              "      fill: #D2E3FC;\n",
              "    }\n",
              "\n",
              "    [theme=dark] .colab-df-convert:hover {\n",
              "      background-color: #434B5C;\n",
              "      box-shadow: 0px 1px 3px 1px rgba(0, 0, 0, 0.15);\n",
              "      filter: drop-shadow(0px 1px 2px rgba(0, 0, 0, 0.3));\n",
              "      fill: #FFFFFF;\n",
              "    }\n",
              "  </style>\n",
              "\n",
              "      <script>\n",
              "        const buttonEl =\n",
              "          document.querySelector('#df-13df85f6-ba90-4170-96a9-9671f8938aa8 button.colab-df-convert');\n",
              "        buttonEl.style.display =\n",
              "          google.colab.kernel.accessAllowed ? 'block' : 'none';\n",
              "\n",
              "        async function convertToInteractive(key) {\n",
              "          const element = document.querySelector('#df-13df85f6-ba90-4170-96a9-9671f8938aa8');\n",
              "          const dataTable =\n",
              "            await google.colab.kernel.invokeFunction('convertToInteractive',\n",
              "                                                     [key], {});\n",
              "          if (!dataTable) return;\n",
              "\n",
              "          const docLinkHtml = 'Like what you see? Visit the ' +\n",
              "            '<a target=\"_blank\" href=https://colab.research.google.com/notebooks/data_table.ipynb>data table notebook</a>'\n",
              "            + ' to learn more about interactive tables.';\n",
              "          element.innerHTML = '';\n",
              "          dataTable['output_type'] = 'display_data';\n",
              "          await google.colab.output.renderOutput(dataTable, element);\n",
              "          const docLink = document.createElement('div');\n",
              "          docLink.innerHTML = docLinkHtml;\n",
              "          element.appendChild(docLink);\n",
              "        }\n",
              "      </script>\n",
              "    </div>\n",
              "  </div>\n",
              "  "
            ]
          },
          "metadata": {},
          "execution_count": 211
        }
      ]
    },
    {
      "cell_type": "markdown",
      "source": [
        "# Explicação sobre o trabalho a ser realizado"
      ],
      "metadata": {
        "id": "ibO8ABOpq_Vl"
      }
    },
    {
      "cell_type": "markdown",
      "source": [
        "O dataset escolhido tem como base informações sobre como os melhores jogadores de Valorant do Episódio 4, Ato 3, se saíram dentro nos seus jogos. \n",
        "\n",
        "As colunas a serem trabalhadas contém informações sobre o nome dentro do jogo, elo/rank, dano por rodada, eliminações com tiro na cabeça, percentual de eliminações com tiro na cabeça, rodadas em que eliminou todos sozinho, rodadas em que ficou sozinho e ganhou, em que todos do time eliminaram alguém, rodadas em que foi o primeiro a eliminar, assistência em eliminações, percentual de eliminações e mortes, pontuação por rodada, percentual de vitória, melhor agente e melhor arma.\n",
        "\n",
        "O intuito deste estudo é extrairmos algumas informações dessa base de dados, inserirmos alguns gráficos e realizarmos um aprendizado de máquina para conseguirmos prever o elo/ranque de um jogador só com base em seus resultados dentro do jogo."
      ],
      "metadata": {
        "id": "Sur8QRaDrDG8"
      }
    },
    {
      "cell_type": "markdown",
      "source": [
        "# Perguntas iniciais"
      ],
      "metadata": {
        "id": "8vgCDEx-vg1u"
      }
    },
    {
      "cell_type": "markdown",
      "source": [
        "- Qual o jogador com maior percentual de vitórias e o com o menor?"
      ],
      "metadata": {
        "id": "X7kSld99vh5S"
      }
    },
    {
      "cell_type": "code",
      "source": [
        "def printWinOrder(_df, str):\n",
        "  print('Jogador com', str, 'percentual de vitórias:', _df['name'][0], '\\nPercentual:', _df['win_percent'][0], '\\nElo:', _df['rating'][0])\n",
        "\n",
        "df_win_order = df.copy()\n",
        "\n",
        "df_win_order = df_win_order.sort_values('win_percent', ascending=False).reset_index().drop('index', axis=1)\n",
        "printWinOrder(df_win_order, 'maior')\n",
        "\n",
        "print('')\n",
        "\n",
        "df_win_order = df_win_order.sort_values('win_percent', ascending=True).reset_index().drop('index', axis=1)\n",
        "printWinOrder(df_win_order, 'menor')"
      ],
      "metadata": {
        "id": "zGghteXfvsFu",
        "outputId": "f7f30594-3ace-49cc-8c56-0799a97c3328",
        "colab": {
          "base_uri": "https://localhost:8080/"
        }
      },
      "execution_count": 212,
      "outputs": [
        {
          "output_type": "stream",
          "name": "stdout",
          "text": [
            "Jogador com maior percentual de vitórias: L DANCE 69 \n",
            "Percentual: 79.7 \n",
            "Elo: Radiant\n",
            "\n",
            "Jogador com menor percentual de vitórias: REV1 \n",
            "Percentual: 40.2 \n",
            "Elo: Diamond -\n"
          ]
        }
      ]
    },
    {
      "cell_type": "markdown",
      "source": [
        "- Qual o jogador com mais aces e o com o menor?"
      ],
      "metadata": {
        "id": "M0QQ8FMOpWRr"
      }
    },
    {
      "cell_type": "code",
      "source": [
        "def printAcesOrder(_df, str):\n",
        "  print('Jogador com', str, 'aces:', _df['name'][0], '\\nAces:', _df['aces'][0], '\\nElo:', _df['rating'][0])\n",
        "\n",
        "df_aces_order = df.copy()\n",
        "\n",
        "df_aces_order = df_aces_order.sort_values('aces', ascending=False).reset_index().drop('index', axis=1)\n",
        "printAcesOrder(df_aces_order, 'mais')\n",
        "\n",
        "print('')\n",
        "\n",
        "df_aces_order = df_aces_order.sort_values('aces', ascending=True).reset_index().drop('index', axis=1)\n",
        "printAcesOrder(df_aces_order, 'menos')"
      ],
      "metadata": {
        "colab": {
          "base_uri": "https://localhost:8080/"
        },
        "id": "yUSi4qpEpUF4",
        "outputId": "ab957093-a71b-4dc4-a213-569e83ec2b8c"
      },
      "execution_count": 213,
      "outputs": [
        {
          "output_type": "stream",
          "name": "stdout",
          "text": [
            "Jogador com mais aces: Tronix \n",
            "Aces: 24 \n",
            "Elo: Immortal\n",
            "\n",
            "Jogador com menos aces: ShimmyXD \n",
            "Aces: 0 \n",
            "Elo: Radiant\n"
          ]
        }
      ]
    },
    {
      "cell_type": "markdown",
      "source": [
        "- Quantos jogadores temos de cada elo?"
      ],
      "metadata": {
        "id": "Msl_Cnk7pulJ"
      }
    },
    {
      "cell_type": "code",
      "source": [
        "def printRankingCount(elo):\n",
        "  _total = len(df[df['rating'] == elo])\n",
        "  print('Elo:', elo, '\\nTotal:', _total, end='\\n\\n')\n",
        "  return _total\n",
        "\n",
        "radiantTotal = printRankingCount('Radiant')\n",
        "immortalTotal = printRankingCount('Immortal')\n",
        "diamondTotal = printRankingCount('Diamond -')"
      ],
      "metadata": {
        "colab": {
          "base_uri": "https://localhost:8080/"
        },
        "id": "tP6gkmuTpuJP",
        "outputId": "99ecd291-0852-4535-965d-b3b035f19df7"
      },
      "execution_count": 214,
      "outputs": [
        {
          "output_type": "stream",
          "name": "stdout",
          "text": [
            "Elo: Radiant \n",
            "Total: 11225\n",
            "\n",
            "Elo: Immortal \n",
            "Total: 11703\n",
            "\n",
            "Elo: Diamond - \n",
            "Total: 17799\n",
            "\n"
          ]
        }
      ]
    },
    {
      "cell_type": "markdown",
      "source": [
        "- Qual é o total de jogadores que tem cada agente como preferido?"
      ],
      "metadata": {
        "id": "QZTucjt3s7E7"
      }
    },
    {
      "cell_type": "code",
      "source": [
        "def printAgentCount(agent):\n",
        "  _total = len(df[df['agent_1'] == agent])\n",
        "  print('Agente:', agent, '\\nTotal:', _total, end='\\n\\n')\n",
        "  return _total\n",
        "\n",
        "agentsTotal = []\n",
        "\n",
        "for agent in df['agent_1'].unique():\n",
        "  agentsTotal.append(printAgentCount(agent))"
      ],
      "metadata": {
        "colab": {
          "base_uri": "https://localhost:8080/"
        },
        "id": "l2RsRE6RtEOX",
        "outputId": "d020ef68-8de2-4b1b-8a29-1bb310e15baf"
      },
      "execution_count": 215,
      "outputs": [
        {
          "output_type": "stream",
          "name": "stdout",
          "text": [
            "Agente: Fade \n",
            "Total: 3617\n",
            "\n",
            "Agente: Sova \n",
            "Total: 2413\n",
            "\n",
            "Agente: Neon \n",
            "Total: 475\n",
            "\n",
            "Agente: Omen \n",
            "Total: 2554\n",
            "\n",
            "Agente: Killjoy \n",
            "Total: 234\n",
            "\n",
            "Agente: KAY/O \n",
            "Total: 725\n",
            "\n",
            "Agente: Viper \n",
            "Total: 1466\n",
            "\n",
            "Agente: Reyna \n",
            "Total: 5204\n",
            "\n",
            "Agente: Sage \n",
            "Total: 1952\n",
            "\n",
            "Agente: Chamber \n",
            "Total: 9885\n",
            "\n",
            "Agente: Raze \n",
            "Total: 2942\n",
            "\n",
            "Agente: Yoru \n",
            "Total: 293\n",
            "\n",
            "Agente: Brimstone \n",
            "Total: 1389\n",
            "\n",
            "Agente: Jett \n",
            "Total: 6308\n",
            "\n",
            "Agente: Breach \n",
            "Total: 213\n",
            "\n",
            "Agente: Skye \n",
            "Total: 649\n",
            "\n",
            "Agente: Cypher \n",
            "Total: 156\n",
            "\n",
            "Agente: Astra \n",
            "Total: 208\n",
            "\n",
            "Agente: Phoenix \n",
            "Total: 44\n",
            "\n"
          ]
        }
      ]
    },
    {
      "cell_type": "markdown",
      "source": [
        "# Visualização dos dados"
      ],
      "metadata": {
        "id": "ZZQlgeT7uiR2"
      }
    },
    {
      "cell_type": "markdown",
      "source": [
        "O gráfico abaixo mostra a distribuição de preferência de jogadores por agente através do barplot do seaborn."
      ],
      "metadata": {
        "id": "6pwF-qyrzxnf"
      }
    },
    {
      "cell_type": "code",
      "source": [
        "sns.barplot(x=df['agent_1'].unique(), y=agentsTotal, palette=\"bright\").set(title='Distribuição de agentes por preferência de jogadores')"
      ],
      "metadata": {
        "colab": {
          "base_uri": "https://localhost:8080/",
          "height": 301
        },
        "id": "_7MG3FjDujlD",
        "outputId": "c2e14650-73b8-4b99-907f-9e21246db3d0"
      },
      "execution_count": 216,
      "outputs": [
        {
          "output_type": "execute_result",
          "data": {
            "text/plain": [
              "[Text(0.5, 1.0, 'Distribuição de agentes por preferência de jogadores')]"
            ]
          },
          "metadata": {},
          "execution_count": 216
        },
        {
          "output_type": "display_data",
          "data": {
            "text/plain": [
              "<Figure size 432x288 with 1 Axes>"
            ],
            "image/png": "[encoded data removed]"
          },
          "metadata": {
            "needs_background": "light"
          }
        }
      ]
    },
    {
      "cell_type": "markdown",
      "source": [
        "Através do histplot do seaborn conseguimos visualizar o percentual de jogadores por elo."
      ],
      "metadata": {
        "id": "BnBMrYh7z62J"
      }
    },
    {
      "cell_type": "code",
      "source": [
        "sns.histplot(data=df, x=\"rating\", hue=\"rating\", stat=\"percent\", palette=\"bright\").set(title='Pecentual de de jogadores por elo')"
      ],
      "metadata": {
        "colab": {
          "base_uri": "https://localhost:8080/",
          "height": 318
        },
        "id": "pV9UCKPWz77M",
        "outputId": "7ef5481b-a59f-4a93-810e-891f7515f1f7"
      },
      "execution_count": 217,
      "outputs": [
        {
          "output_type": "execute_result",
          "data": {
            "text/plain": [
              "[Text(0.5, 1.0, 'Pecentual de de jogadores por elo')]"
            ]
          },
          "metadata": {},
          "execution_count": 217
        },
        {
          "output_type": "display_data",
          "data": {
            "text/plain": [
              "<Figure size 432x288 with 1 Axes>"
            ],
            "image/png": "[encoded data removed]"
          },
          "metadata": {
            "needs_background": "light"
          }
        }
      ]
    },
    {
      "cell_type": "markdown",
      "source": [
        "# Correlação "
      ],
      "metadata": {
        "id": "nZ9LJldR1K-U"
      }
    },
    {
      "cell_type": "markdown",
      "source": [
        "Não entrava muito no intuito da pesquisa, mas acredito que seja viável realizar uma verificação de correlação dos dados da tabela para também conseguirmos compreender como funciona cada propriedade e também ver qual pode influenciar em qual."
      ],
      "metadata": {
        "id": "1_EZrgFk1uaI"
      }
    },
    {
      "cell_type": "code",
      "source": [
        "corr = df.corr()\n",
        "cmap = sns.diverging_palette(230, 20, as_cmap=True)\n",
        "sns.heatmap(df.corr(),cmap=cmap, annot=True);"
      ],
      "metadata": {
        "colab": {
          "base_uri": "https://localhost:8080/",
          "height": 361
        },
        "id": "mkAHSAq91Wqc",
        "outputId": "8a9a685d-4a4b-4b0d-8841-a7b58e25db6b"
      },
      "execution_count": 218,
      "outputs": [
        {
          "output_type": "display_data",
          "data": {
            "text/plain": [
              "<Figure size 432x288 with 2 Axes>"
            ],
            "image/png": "[encoded data removed]"
          },
          "metadata": {
            "needs_background": "light"
          }
        }
      ]
    },
    {
      "cell_type": "markdown",
      "source": [
        "Esse gráfico de calor ajuda bastante para quem já compreende como o jogo funciona, e é interessante analisar que a quantidade de dano por rodada influencia fortemente na pontuação durante a rodada, algo que muitos jogadores não devem saber, e talvez ajudaria a subir de elo mais rapidamente."
      ],
      "metadata": {
        "id": "NPlyljvk1_p6"
      }
    },
    {
      "cell_type": "markdown",
      "source": [
        "# Transformação de variáveis categóricas nominais"
      ],
      "metadata": {
        "id": "echcQD6s2nng"
      }
    },
    {
      "cell_type": "markdown",
      "source": [
        "Vamos verificar agora quais colunas vamos precisar para o aprendizado de máquina e quais iremos precisar tratar e transformar para variáveis categóricas númericas ordinais."
      ],
      "metadata": {
        "id": "G62Yrl3h5uQa"
      }
    },
    {
      "cell_type": "code",
      "source": [
        "df.info()"
      ],
      "metadata": {
        "id": "nI8-_RYU3MIr",
        "outputId": "8956d435-9bc7-4b71-9241-4d47965fd89f",
        "colab": {
          "base_uri": "https://localhost:8080/"
        }
      },
      "execution_count": 219,
      "outputs": [
        {
          "output_type": "stream",
          "name": "stdout",
          "text": [
            "<class 'pandas.core.frame.DataFrame'>\n",
            "RangeIndex: 40727 entries, 0 to 40726\n",
            "Data columns (total 16 columns):\n",
            " #   Column            Non-Null Count  Dtype  \n",
            "---  ------            --------------  -----  \n",
            " 0   name              40727 non-null  object \n",
            " 1   rating            40727 non-null  object \n",
            " 2   damage_round      40727 non-null  float64\n",
            " 3   headshots         40727 non-null  float64\n",
            " 4   headshot_percent  40727 non-null  float64\n",
            " 5   aces              40727 non-null  int64  \n",
            " 6   clutches          40727 non-null  int64  \n",
            " 7   flawless          40727 non-null  int64  \n",
            " 8   first_bloods      40727 non-null  float64\n",
            " 9   assists           40727 non-null  float64\n",
            " 10  kd_ratio          40727 non-null  float64\n",
            " 11  kills_round       40727 non-null  float64\n",
            " 12  score_round       40727 non-null  float64\n",
            " 13  win_percent       40727 non-null  float64\n",
            " 14  agent_1           40727 non-null  object \n",
            " 15  gun1_name         40727 non-null  object \n",
            "dtypes: float64(9), int64(3), object(4)\n",
            "memory usage: 5.0+ MB\n"
          ]
        }
      ]
    },
    {
      "cell_type": "markdown",
      "source": [
        "Vamos o nome, agente preferido e arma preferida pois não influenciam positivamente para o aprendizado, e vamos tratar o elo."
      ],
      "metadata": {
        "id": "7GPIpzlp53a0"
      }
    },
    {
      "cell_type": "code",
      "source": [
        "le = LabelEncoder()\n",
        "df_new = df.copy()\n",
        "\n",
        "df_new[\"rating\"] = le.fit_transform(df_new.rating.values)\n",
        "\n",
        "df_new = df_new.drop(['name'], axis=1)\n",
        "df_new = df_new.drop(['agent_1'], axis=1)\n",
        "df_new = df_new.drop(['gun1_name'], axis=1)\n",
        "\n",
        "for i in df_new[\"rating\"].unique():\n",
        "  print(\"Elo:\", le.inverse_transform([i])[0], \"\\nCategoria:\", i)\n",
        "  print(\"\")"
      ],
      "metadata": {
        "id": "xqPsWXZE2xDP",
        "outputId": "8a52082b-5fca-49fa-a38e-aa793019e574",
        "colab": {
          "base_uri": "https://localhost:8080/"
        }
      },
      "execution_count": 220,
      "outputs": [
        {
          "output_type": "stream",
          "name": "stdout",
          "text": [
            "Elo: Radiant \n",
            "Categoria: 2\n",
            "\n",
            "Elo: Immortal \n",
            "Categoria: 1\n",
            "\n",
            "Elo: Diamond - \n",
            "Categoria: 0\n",
            "\n"
          ]
        }
      ]
    },
    {
      "cell_type": "markdown",
      "source": [
        "Vamos analisar também qual a quantidade de dados que iremos trabalhar no aprendizado de máquina."
      ],
      "metadata": {
        "id": "pITJWRnK6NFJ"
      }
    },
    {
      "cell_type": "code",
      "source": [
        "df_new.shape"
      ],
      "metadata": {
        "id": "qm3BVDH46F-S",
        "outputId": "ce4035de-6b67-4689-9c81-ed5585db43b2",
        "colab": {
          "base_uri": "https://localhost:8080/"
        }
      },
      "execution_count": 221,
      "outputs": [
        {
          "output_type": "execute_result",
          "data": {
            "text/plain": [
              "(40727, 13)"
            ]
          },
          "metadata": {},
          "execution_count": 221
        }
      ]
    },
    {
      "cell_type": "markdown",
      "source": [
        "# Legenda"
      ],
      "metadata": {
        "id": "lZU_mYEg6Sl3"
      }
    },
    {
      "cell_type": "markdown",
      "source": [
        "Vamos pegar o dicionário de dados e trazer atualizado com as colunas que iremos trabalhar no aprendizado de máquina, lembrando que o nosso objetivo é tentar prever o elo, ou seja, a coluna \"rating\" do jogador."
      ],
      "metadata": {
        "id": "PIp6koed87Kk"
      }
    },
    {
      "cell_type": "code",
      "source": [
        "csv_url = \"https://github.com/viniciusgugelmin/data-science-3/blob/main/projects/valorant_stats/data/data_dictionary.csv?raw=true\"\n",
        "\n",
        "df_dictionary = pd.read_csv(csv_url, sep=';', low_memory=False)\n",
        "df_dictionary.rename(columns = {'region' : 'Coluna', 'área do servidor' : 'Descrição'}, inplace = True)\n",
        "df_dictionary = df_dictionary[df_dictionary[\"Coluna\"].isin(df_new.columns)].reset_index().drop('index', axis=1)\n",
        "df_dictionary"
      ],
      "metadata": {
        "id": "gcApSntr6T0T",
        "outputId": "56921b41-afe8-4f09-c4c8-a0ade2eaad61",
        "colab": {
          "base_uri": "https://localhost:8080/",
          "height": 457
        }
      },
      "execution_count": 222,
      "outputs": [
        {
          "output_type": "execute_result",
          "data": {
            "text/plain": [
              "              Coluna                                          Descrição\n",
              "0             rating                                elo/rank do jogador\n",
              "1       damage_round  média de dano efetuado por rodada em todos os ...\n",
              "2          headshots     total de pessoas eliminadas com tiro na cabeça\n",
              "3   headshot_percent            percentual de tiros que foram na cabeça\n",
              "4               aces  número total de rodadas que eliminou todos os ...\n",
              "5           clutches  número total de rodadas que ficou vivo sozinho...\n",
              "6           flawless  número total de rodadas em que todo mundo da e...\n",
              "7       first_bloods  número total de primeiras eliminações de jogad...\n",
              "8            assists  número total de participações em eliminações d...\n",
              "9           kd_ratio  proporção de eliminações e de vezes que foi el...\n",
              "10       kills_round                    média de eliminações por rodada\n",
              "11       score_round                         média de pontos por rodada\n",
              "12       win_percent                     percentual de vitória em jogos"
            ],
            "text/html": [
              "\n",
              "  <div id=\"df-5969144a-c701-47e4-85e3-5adc4044aa18\">\n",
              "    <div class=\"colab-df-container\">\n",
              "      <div>\n",
              "<style scoped>\n",
              "    .dataframe tbody tr th:only-of-type {\n",
              "        vertical-align: middle;\n",
              "    }\n",
              "\n",
              "    .dataframe tbody tr th {\n",
              "        vertical-align: top;\n",
              "    }\n",
              "\n",
              "    .dataframe thead th {\n",
              "        text-align: right;\n",
              "    }\n",
              "</style>\n",
              "<table border=\"1\" class=\"dataframe\">\n",
              "  <thead>\n",
              "    <tr style=\"text-align: right;\">\n",
              "      <th></th>\n",
              "      <th>Coluna</th>\n",
              "      <th>Descrição</th>\n",
              "    </tr>\n",
              "  </thead>\n",
              "  <tbody>\n",
              "    <tr>\n",
              "      <th>0</th>\n",
              "      <td>rating</td>\n",
              "      <td>elo/rank do jogador</td>\n",
              "    </tr>\n",
              "    <tr>\n",
              "      <th>1</th>\n",
              "      <td>damage_round</td>\n",
              "      <td>média de dano efetuado por rodada em todos os ...</td>\n",
              "    </tr>\n",
              "    <tr>\n",
              "      <th>2</th>\n",
              "      <td>headshots</td>\n",
              "      <td>total de pessoas eliminadas com tiro na cabeça</td>\n",
              "    </tr>\n",
              "    <tr>\n",
              "      <th>3</th>\n",
              "      <td>headshot_percent</td>\n",
              "      <td>percentual de tiros que foram na cabeça</td>\n",
              "    </tr>\n",
              "    <tr>\n",
              "      <th>4</th>\n",
              "      <td>aces</td>\n",
              "      <td>número total de rodadas que eliminou todos os ...</td>\n",
              "    </tr>\n",
              "    <tr>\n",
              "      <th>5</th>\n",
              "      <td>clutches</td>\n",
              "      <td>número total de rodadas que ficou vivo sozinho...</td>\n",
              "    </tr>\n",
              "    <tr>\n",
              "      <th>6</th>\n",
              "      <td>flawless</td>\n",
              "      <td>número total de rodadas em que todo mundo da e...</td>\n",
              "    </tr>\n",
              "    <tr>\n",
              "      <th>7</th>\n",
              "      <td>first_bloods</td>\n",
              "      <td>número total de primeiras eliminações de jogad...</td>\n",
              "    </tr>\n",
              "    <tr>\n",
              "      <th>8</th>\n",
              "      <td>assists</td>\n",
              "      <td>número total de participações em eliminações d...</td>\n",
              "    </tr>\n",
              "    <tr>\n",
              "      <th>9</th>\n",
              "      <td>kd_ratio</td>\n",
              "      <td>proporção de eliminações e de vezes que foi el...</td>\n",
              "    </tr>\n",
              "    <tr>\n",
              "      <th>10</th>\n",
              "      <td>kills_round</td>\n",
              "      <td>média de eliminações por rodada</td>\n",
              "    </tr>\n",
              "    <tr>\n",
              "      <th>11</th>\n",
              "      <td>score_round</td>\n",
              "      <td>média de pontos por rodada</td>\n",
              "    </tr>\n",
              "    <tr>\n",
              "      <th>12</th>\n",
              "      <td>win_percent</td>\n",
              "      <td>percentual de vitória em jogos</td>\n",
              "    </tr>\n",
              "  </tbody>\n",
              "</table>\n",
              "</div>\n",
              "      <button class=\"colab-df-convert\" onclick=\"convertToInteractive('df-5969144a-c701-47e4-85e3-5adc4044aa18')\"\n",
              "              title=\"Convert this dataframe to an interactive table.\"\n",
              "              style=\"display:none;\">\n",
              "        \n",
              "  <svg xmlns=\"http://www.w3.org/2000/svg\" height=\"24px\"viewBox=\"0 0 24 24\"\n",
              "       width=\"24px\">\n",
              "    <path d=\"M0 0h24v24H0V0z\" fill=\"none\"/>\n",
              "    <path d=\"M18.56 5.44l.94 2.06.94-2.06 2.06-.94-2.06-.94-.94-2.06-.94 2.06-2.06.94zm-11 1L8.5 8.5l.94-2.06 2.06-.94-2.06-.94L8.5 2.5l-.94 2.06-2.06.94zm10 10l.94 2.06.94-2.06 2.06-.94-2.06-.94-.94-2.06-.94 2.06-2.06.94z\"/><path d=\"M17.41 7.96l-1.37-1.37c-.4-.4-.92-.59-1.43-.59-.52 0-1.04.2-1.43.59L10.3 9.45l-7.72 7.72c-.78.78-.78 2.05 0 2.83L4 21.41c.39.39.9.59 1.41.59.51 0 1.02-.2 1.41-.59l7.78-7.78 2.81-2.81c.8-.78.8-2.07 0-2.86zM5.41 20L4 18.59l7.72-7.72 1.47 1.35L5.41 20z\"/>\n",
              "  </svg>\n",
              "      </button>\n",
              "      \n",
              "  <style>\n",
              "    .colab-df-container {\n",
              "      display:flex;\n",
              "      flex-wrap:wrap;\n",
              "      gap: 12px;\n",
              "    }\n",
              "\n",
              "    .colab-df-convert {\n",
              "      background-color: #E8F0FE;\n",
              "      border: none;\n",
              "      border-radius: 50%;\n",
              "      cursor: pointer;\n",
              "      display: none;\n",
              "      fill: #1967D2;\n",
              "      height: 32px;\n",
              "      padding: 0 0 0 0;\n",
              "      width: 32px;\n",
              "    }\n",
              "\n",
              "    .colab-df-convert:hover {\n",
              "      background-color: #E2EBFA;\n",
              "      box-shadow: 0px 1px 2px rgba(60, 64, 67, 0.3), 0px 1px 3px 1px rgba(60, 64, 67, 0.15);\n",
              "      fill: #174EA6;\n",
              "    }\n",
              "\n",
              "    [theme=dark] .colab-df-convert {\n",
              "      background-color: #3B4455;\n",
              "      fill: #D2E3FC;\n",
              "    }\n",
              "\n",
              "    [theme=dark] .colab-df-convert:hover {\n",
              "      background-color: #434B5C;\n",
              "      box-shadow: 0px 1px 3px 1px rgba(0, 0, 0, 0.15);\n",
              "      filter: drop-shadow(0px 1px 2px rgba(0, 0, 0, 0.3));\n",
              "      fill: #FFFFFF;\n",
              "    }\n",
              "  </style>\n",
              "\n",
              "      <script>\n",
              "        const buttonEl =\n",
              "          document.querySelector('#df-5969144a-c701-47e4-85e3-5adc4044aa18 button.colab-df-convert');\n",
              "        buttonEl.style.display =\n",
              "          google.colab.kernel.accessAllowed ? 'block' : 'none';\n",
              "\n",
              "        async function convertToInteractive(key) {\n",
              "          const element = document.querySelector('#df-5969144a-c701-47e4-85e3-5adc4044aa18');\n",
              "          const dataTable =\n",
              "            await google.colab.kernel.invokeFunction('convertToInteractive',\n",
              "                                                     [key], {});\n",
              "          if (!dataTable) return;\n",
              "\n",
              "          const docLinkHtml = 'Like what you see? Visit the ' +\n",
              "            '<a target=\"_blank\" href=https://colab.research.google.com/notebooks/data_table.ipynb>data table notebook</a>'\n",
              "            + ' to learn more about interactive tables.';\n",
              "          element.innerHTML = '';\n",
              "          dataTable['output_type'] = 'display_data';\n",
              "          await google.colab.output.renderOutput(dataTable, element);\n",
              "          const docLink = document.createElement('div');\n",
              "          docLink.innerHTML = docLinkHtml;\n",
              "          element.appendChild(docLink);\n",
              "        }\n",
              "      </script>\n",
              "    </div>\n",
              "  </div>\n",
              "  "
            ]
          },
          "metadata": {},
          "execution_count": 222
        }
      ]
    },
    {
      "cell_type": "markdown",
      "source": [
        "# Atributos previsores e alvo"
      ],
      "metadata": {
        "id": "iyfAqKlA9Ndc"
      }
    },
    {
      "cell_type": "code",
      "source": [
        "df_new.head()"
      ],
      "metadata": {
        "id": "wKat6G_B9gdi",
        "outputId": "29e8509e-bda4-480b-fe00-4179ec6d78bf",
        "colab": {
          "base_uri": "https://localhost:8080/",
          "height": 206
        }
      },
      "execution_count": 223,
      "outputs": [
        {
          "output_type": "execute_result",
          "data": {
            "text/plain": [
              "   rating  damage_round  headshots  headshot_percent  aces  clutches  \\\n",
              "0       2         135.8      161.0              24.9     0       140   \n",
              "1       2         130.1       47.0              28.2     1        51   \n",
              "2       2         141.7      114.0              21.6     2        93   \n",
              "3       2         120.5       51.0              23.5     0        62   \n",
              "4       2         143.3      214.0              24.0     2       129   \n",
              "\n",
              "   flawless  first_bloods  assists  kd_ratio  kills_round  score_round  \\\n",
              "0        80         161.0    703.0      1.07          0.7        208.8   \n",
              "1        41          47.0    365.0      1.01          0.7        196.0   \n",
              "2        44         114.0    281.0      1.05          0.8        218.0   \n",
              "3        39          51.0    254.0      0.92          0.6        185.8   \n",
              "4        74         214.0    454.0      1.05          0.8        216.5   \n",
              "\n",
              "   win_percent  \n",
              "0         59.6  \n",
              "1         54.4  \n",
              "2         53.7  \n",
              "3         59.5  \n",
              "4         52.1  "
            ],
            "text/html": [
              "\n",
              "  <div id=\"df-36f647dd-a815-413f-a77b-95060c9af3f7\">\n",
              "    <div class=\"colab-df-container\">\n",
              "      <div>\n",
              "<style scoped>\n",
              "    .dataframe tbody tr th:only-of-type {\n",
              "        vertical-align: middle;\n",
              "    }\n",
              "\n",
              "    .dataframe tbody tr th {\n",
              "        vertical-align: top;\n",
              "    }\n",
              "\n",
              "    .dataframe thead th {\n",
              "        text-align: right;\n",
              "    }\n",
              "</style>\n",
              "<table border=\"1\" class=\"dataframe\">\n",
              "  <thead>\n",
              "    <tr style=\"text-align: right;\">\n",
              "      <th></th>\n",
              "      <th>rating</th>\n",
              "      <th>damage_round</th>\n",
              "      <th>headshots</th>\n",
              "      <th>headshot_percent</th>\n",
              "      <th>aces</th>\n",
              "      <th>clutches</th>\n",
              "      <th>flawless</th>\n",
              "      <th>first_bloods</th>\n",
              "      <th>assists</th>\n",
              "      <th>kd_ratio</th>\n",
              "      <th>kills_round</th>\n",
              "      <th>score_round</th>\n",
              "      <th>win_percent</th>\n",
              "    </tr>\n",
              "  </thead>\n",
              "  <tbody>\n",
              "    <tr>\n",
              "      <th>0</th>\n",
              "      <td>2</td>\n",
              "      <td>135.8</td>\n",
              "      <td>161.0</td>\n",
              "      <td>24.9</td>\n",
              "      <td>0</td>\n",
              "      <td>140</td>\n",
              "      <td>80</td>\n",
              "      <td>161.0</td>\n",
              "      <td>703.0</td>\n",
              "      <td>1.07</td>\n",
              "      <td>0.7</td>\n",
              "      <td>208.8</td>\n",
              "      <td>59.6</td>\n",
              "    </tr>\n",
              "    <tr>\n",
              "      <th>1</th>\n",
              "      <td>2</td>\n",
              "      <td>130.1</td>\n",
              "      <td>47.0</td>\n",
              "      <td>28.2</td>\n",
              "      <td>1</td>\n",
              "      <td>51</td>\n",
              "      <td>41</td>\n",
              "      <td>47.0</td>\n",
              "      <td>365.0</td>\n",
              "      <td>1.01</td>\n",
              "      <td>0.7</td>\n",
              "      <td>196.0</td>\n",
              "      <td>54.4</td>\n",
              "    </tr>\n",
              "    <tr>\n",
              "      <th>2</th>\n",
              "      <td>2</td>\n",
              "      <td>141.7</td>\n",
              "      <td>114.0</td>\n",
              "      <td>21.6</td>\n",
              "      <td>2</td>\n",
              "      <td>93</td>\n",
              "      <td>44</td>\n",
              "      <td>114.0</td>\n",
              "      <td>281.0</td>\n",
              "      <td>1.05</td>\n",
              "      <td>0.8</td>\n",
              "      <td>218.0</td>\n",
              "      <td>53.7</td>\n",
              "    </tr>\n",
              "    <tr>\n",
              "      <th>3</th>\n",
              "      <td>2</td>\n",
              "      <td>120.5</td>\n",
              "      <td>51.0</td>\n",
              "      <td>23.5</td>\n",
              "      <td>0</td>\n",
              "      <td>62</td>\n",
              "      <td>39</td>\n",
              "      <td>51.0</td>\n",
              "      <td>254.0</td>\n",
              "      <td>0.92</td>\n",
              "      <td>0.6</td>\n",
              "      <td>185.8</td>\n",
              "      <td>59.5</td>\n",
              "    </tr>\n",
              "    <tr>\n",
              "      <th>4</th>\n",
              "      <td>2</td>\n",
              "      <td>143.3</td>\n",
              "      <td>214.0</td>\n",
              "      <td>24.0</td>\n",
              "      <td>2</td>\n",
              "      <td>129</td>\n",
              "      <td>74</td>\n",
              "      <td>214.0</td>\n",
              "      <td>454.0</td>\n",
              "      <td>1.05</td>\n",
              "      <td>0.8</td>\n",
              "      <td>216.5</td>\n",
              "      <td>52.1</td>\n",
              "    </tr>\n",
              "  </tbody>\n",
              "</table>\n",
              "</div>\n",
              "      <button class=\"colab-df-convert\" onclick=\"convertToInteractive('df-36f647dd-a815-413f-a77b-95060c9af3f7')\"\n",
              "              title=\"Convert this dataframe to an interactive table.\"\n",
              "              style=\"display:none;\">\n",
              "        \n",
              "  <svg xmlns=\"http://www.w3.org/2000/svg\" height=\"24px\"viewBox=\"0 0 24 24\"\n",
              "       width=\"24px\">\n",
              "    <path d=\"M0 0h24v24H0V0z\" fill=\"none\"/>\n",
              "    <path d=\"M18.56 5.44l.94 2.06.94-2.06 2.06-.94-2.06-.94-.94-2.06-.94 2.06-2.06.94zm-11 1L8.5 8.5l.94-2.06 2.06-.94-2.06-.94L8.5 2.5l-.94 2.06-2.06.94zm10 10l.94 2.06.94-2.06 2.06-.94-2.06-.94-.94-2.06-.94 2.06-2.06.94z\"/><path d=\"M17.41 7.96l-1.37-1.37c-.4-.4-.92-.59-1.43-.59-.52 0-1.04.2-1.43.59L10.3 9.45l-7.72 7.72c-.78.78-.78 2.05 0 2.83L4 21.41c.39.39.9.59 1.41.59.51 0 1.02-.2 1.41-.59l7.78-7.78 2.81-2.81c.8-.78.8-2.07 0-2.86zM5.41 20L4 18.59l7.72-7.72 1.47 1.35L5.41 20z\"/>\n",
              "  </svg>\n",
              "      </button>\n",
              "      \n",
              "  <style>\n",
              "    .colab-df-container {\n",
              "      display:flex;\n",
              "      flex-wrap:wrap;\n",
              "      gap: 12px;\n",
              "    }\n",
              "\n",
              "    .colab-df-convert {\n",
              "      background-color: #E8F0FE;\n",
              "      border: none;\n",
              "      border-radius: 50%;\n",
              "      cursor: pointer;\n",
              "      display: none;\n",
              "      fill: #1967D2;\n",
              "      height: 32px;\n",
              "      padding: 0 0 0 0;\n",
              "      width: 32px;\n",
              "    }\n",
              "\n",
              "    .colab-df-convert:hover {\n",
              "      background-color: #E2EBFA;\n",
              "      box-shadow: 0px 1px 2px rgba(60, 64, 67, 0.3), 0px 1px 3px 1px rgba(60, 64, 67, 0.15);\n",
              "      fill: #174EA6;\n",
              "    }\n",
              "\n",
              "    [theme=dark] .colab-df-convert {\n",
              "      background-color: #3B4455;\n",
              "      fill: #D2E3FC;\n",
              "    }\n",
              "\n",
              "    [theme=dark] .colab-df-convert:hover {\n",
              "      background-color: #434B5C;\n",
              "      box-shadow: 0px 1px 3px 1px rgba(0, 0, 0, 0.15);\n",
              "      filter: drop-shadow(0px 1px 2px rgba(0, 0, 0, 0.3));\n",
              "      fill: #FFFFFF;\n",
              "    }\n",
              "  </style>\n",
              "\n",
              "      <script>\n",
              "        const buttonEl =\n",
              "          document.querySelector('#df-36f647dd-a815-413f-a77b-95060c9af3f7 button.colab-df-convert');\n",
              "        buttonEl.style.display =\n",
              "          google.colab.kernel.accessAllowed ? 'block' : 'none';\n",
              "\n",
              "        async function convertToInteractive(key) {\n",
              "          const element = document.querySelector('#df-36f647dd-a815-413f-a77b-95060c9af3f7');\n",
              "          const dataTable =\n",
              "            await google.colab.kernel.invokeFunction('convertToInteractive',\n",
              "                                                     [key], {});\n",
              "          if (!dataTable) return;\n",
              "\n",
              "          const docLinkHtml = 'Like what you see? Visit the ' +\n",
              "            '<a target=\"_blank\" href=https://colab.research.google.com/notebooks/data_table.ipynb>data table notebook</a>'\n",
              "            + ' to learn more about interactive tables.';\n",
              "          element.innerHTML = '';\n",
              "          dataTable['output_type'] = 'display_data';\n",
              "          await google.colab.output.renderOutput(dataTable, element);\n",
              "          const docLink = document.createElement('div');\n",
              "          docLink.innerHTML = docLinkHtml;\n",
              "          element.appendChild(docLink);\n",
              "        }\n",
              "      </script>\n",
              "    </div>\n",
              "  </div>\n",
              "  "
            ]
          },
          "metadata": {},
          "execution_count": 223
        }
      ]
    },
    {
      "cell_type": "code",
      "source": [
        "previsores = df_new.iloc[:, 1:13].values\n",
        "previsores"
      ],
      "metadata": {
        "id": "Qg3ZeIIR9Ycr",
        "outputId": "9ff90550-c2a3-45f5-916d-2c0a57492dc0",
        "colab": {
          "base_uri": "https://localhost:8080/"
        }
      },
      "execution_count": 224,
      "outputs": [
        {
          "output_type": "execute_result",
          "data": {
            "text/plain": [
              "array([[135.8, 161. ,  24.9, ...,   0.7, 208.8,  59.6],\n",
              "       [130.1,  47. ,  28.2, ...,   0.7, 196. ,  54.4],\n",
              "       [141.7, 114. ,  21.6, ...,   0.8, 218. ,  53.7],\n",
              "       ...,\n",
              "       [141.5, 135. ,  14.4, ...,   0.8, 216.3,  44.6],\n",
              "       [129.9, 151. ,  34.8, ...,   0.7, 198.7,  44.3],\n",
              "       [148.1, 177. ,  23.1, ...,   0.8, 229.8,  51.8]])"
            ]
          },
          "metadata": {},
          "execution_count": 224
        }
      ]
    },
    {
      "cell_type": "code",
      "source": [
        "alvo = df_new.iloc[:, 0].values\n",
        "alvo"
      ],
      "metadata": {
        "id": "5TJdDW4q9pgD",
        "outputId": "a840466d-2f88-49aa-b6c2-551b206af30d",
        "colab": {
          "base_uri": "https://localhost:8080/"
        }
      },
      "execution_count": 225,
      "outputs": [
        {
          "output_type": "execute_result",
          "data": {
            "text/plain": [
              "array([2, 2, 2, ..., 0, 0, 0])"
            ]
          },
          "metadata": {},
          "execution_count": 225
        }
      ]
    }
  ],
  "metadata": {
    "kernelspec": {
      "display_name": "Python 3.9.12",
      "language": "python",
      "name": "python3"
    },
    "language_info": {
      "name": "python",
      "version": "3.9.12"
    },
    "orig_nbformat": 4,
    "vscode": {
      "interpreter": {
        "hash": "bc2cefd0281c801cfecce64a6c6f045a8fc1e4c861b6297eb4e87b91b65006cb"
      }
    },
    "colab": {
      "provenance": []
    }
  },
  "nbformat": 4,
  "nbformat_minor": 0
}